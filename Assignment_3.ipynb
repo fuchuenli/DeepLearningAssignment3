{
 "cells": [
  {
   "cell_type": "markdown",
   "metadata": {
    "id": "bbC77NleBxU7"
   },
   "source": [
    "# Import libraries and the dataset"
   ]
  },
  {
   "cell_type": "code",
   "execution_count": 1,
   "metadata": {
    "colab": {
     "base_uri": "https://localhost:8080/"
    },
    "id": "W3v8dm8R6dwE",
    "outputId": "909c8f63-b40c-4bd0-d4f6-cda6b7af8e98"
   },
   "outputs": [
    {
     "data": {
      "text/plain": [
       "device(type='cuda', index=0)"
      ]
     },
     "execution_count": 1,
     "metadata": {},
     "output_type": "execute_result"
    }
   ],
   "source": [
    "# Import libraries\n",
    "import torch\n",
    "import torch.nn as nn\n",
    "import torchvision\n",
    "import torchvision.transforms as transforms\n",
    "import matplotlib.pyplot as plt\n",
    "import numpy as np\n",
    "import pandas as pd\n",
    "import seaborn as sns\n",
    "from torch.nn.functional import normalize\n",
    "from torchvision import transforms\n",
    "from sklearn.preprocessing import MinMaxScaler\n",
    "#from sklearn.preprocessing import StandardScaler\n",
    "from torch.utils.data import DataLoader\n",
    "from torch.autograd.grad_mode import no_grad\n",
    "from sklearn.metrics import mean_squared_error\n",
    "import matplotlib.dates as mdates\n",
    "import random\n",
    "\n",
    "# Device configuration\n",
    "device = torch.device(\"cuda:0\" if torch.cuda.is_available() else \"cpu\")\n",
    "device"
   ]
  },
  {
   "cell_type": "code",
   "execution_count": 2,
   "metadata": {
    "id": "mGsNXDa1e5fy"
   },
   "outputs": [],
   "source": [
    "# Set all random factors to be deterministic \n",
    "def deterministic(seed):\n",
    "  torch.manual_seed(seed)\n",
    "  np.random.seed(seed)\n",
    "  random.seed(seed)\n",
    "  torch.cuda.manual_seed(seed)\n",
    "  torch.cuda.manual_seed_all(seed)\n",
    "  torch.backends.cudnn.deterministic = True\n",
    "  torch.backends.cudnn.benchmark = False"
   ]
  },
  {
   "cell_type": "code",
   "execution_count": 3,
   "metadata": {
    "id": "YDBhlGgS8xkE"
   },
   "outputs": [],
   "source": [
    "# Load dataset\n",
    "dataset = pd.read_csv(\"QQQ.csv\")"
   ]
  },
  {
   "cell_type": "code",
   "execution_count": 4,
   "metadata": {
    "colab": {
     "base_uri": "https://localhost:8080/"
    },
    "id": "6i1BsM0nrM0_",
    "outputId": "7fd19103-df50-4d05-aff7-b5cc83608882"
   },
   "outputs": [
    {
     "name": "stdout",
     "output_type": "stream",
     "text": [
      "dataset shape: (5952, 7)\n"
     ]
    }
   ],
   "source": [
    "print(f\"dataset shape: {dataset.shape}\")"
   ]
  },
  {
   "cell_type": "code",
   "execution_count": 5,
   "metadata": {
    "colab": {
     "base_uri": "https://localhost:8080/",
     "height": 206
    },
    "id": "sT9xFkgw8zRy",
    "outputId": "f4b3478a-16de-4823-a82b-464b8c7762a0"
   },
   "outputs": [
    {
     "data": {
      "text/html": [
       "\n",
       "  <div id=\"df-e439bea6-e6d1-4088-ba6e-cb4872f07f54\">\n",
       "    <div class=\"colab-df-container\">\n",
       "      <div>\n",
       "<style scoped>\n",
       "    .dataframe tbody tr th:only-of-type {\n",
       "        vertical-align: middle;\n",
       "    }\n",
       "\n",
       "    .dataframe tbody tr th {\n",
       "        vertical-align: top;\n",
       "    }\n",
       "\n",
       "    .dataframe thead th {\n",
       "        text-align: right;\n",
       "    }\n",
       "</style>\n",
       "<table border=\"1\" class=\"dataframe\">\n",
       "  <thead>\n",
       "    <tr style=\"text-align: right;\">\n",
       "      <th></th>\n",
       "      <th>Date</th>\n",
       "      <th>Open</th>\n",
       "      <th>High</th>\n",
       "      <th>Low</th>\n",
       "      <th>Close</th>\n",
       "      <th>Adj Close</th>\n",
       "      <th>Volume</th>\n",
       "    </tr>\n",
       "  </thead>\n",
       "  <tbody>\n",
       "    <tr>\n",
       "      <th>0</th>\n",
       "      <td>1999-03-11</td>\n",
       "      <td>51.43750</td>\n",
       "      <td>51.734375</td>\n",
       "      <td>50.31250</td>\n",
       "      <td>51.3125</td>\n",
       "      <td>44.226849</td>\n",
       "      <td>9688600</td>\n",
       "    </tr>\n",
       "    <tr>\n",
       "      <th>1</th>\n",
       "      <td>1999-03-12</td>\n",
       "      <td>51.12500</td>\n",
       "      <td>51.156250</td>\n",
       "      <td>49.65625</td>\n",
       "      <td>50.0625</td>\n",
       "      <td>43.149475</td>\n",
       "      <td>8743600</td>\n",
       "    </tr>\n",
       "    <tr>\n",
       "      <th>2</th>\n",
       "      <td>1999-03-15</td>\n",
       "      <td>50.43750</td>\n",
       "      <td>51.562500</td>\n",
       "      <td>49.90625</td>\n",
       "      <td>51.5000</td>\n",
       "      <td>44.388466</td>\n",
       "      <td>6369000</td>\n",
       "    </tr>\n",
       "    <tr>\n",
       "      <th>3</th>\n",
       "      <td>1999-03-16</td>\n",
       "      <td>51.71875</td>\n",
       "      <td>52.156250</td>\n",
       "      <td>51.15625</td>\n",
       "      <td>51.9375</td>\n",
       "      <td>44.765564</td>\n",
       "      <td>4905800</td>\n",
       "    </tr>\n",
       "    <tr>\n",
       "      <th>4</th>\n",
       "      <td>1999-03-17</td>\n",
       "      <td>51.93750</td>\n",
       "      <td>52.000000</td>\n",
       "      <td>51.40625</td>\n",
       "      <td>51.5625</td>\n",
       "      <td>44.442318</td>\n",
       "      <td>3965000</td>\n",
       "    </tr>\n",
       "  </tbody>\n",
       "</table>\n",
       "</div>\n",
       "      <button class=\"colab-df-convert\" onclick=\"convertToInteractive('df-e439bea6-e6d1-4088-ba6e-cb4872f07f54')\"\n",
       "              title=\"Convert this dataframe to an interactive table.\"\n",
       "              style=\"display:none;\">\n",
       "        \n",
       "  <svg xmlns=\"http://www.w3.org/2000/svg\" height=\"24px\"viewBox=\"0 0 24 24\"\n",
       "       width=\"24px\">\n",
       "    <path d=\"M0 0h24v24H0V0z\" fill=\"none\"/>\n",
       "    <path d=\"M18.56 5.44l.94 2.06.94-2.06 2.06-.94-2.06-.94-.94-2.06-.94 2.06-2.06.94zm-11 1L8.5 8.5l.94-2.06 2.06-.94-2.06-.94L8.5 2.5l-.94 2.06-2.06.94zm10 10l.94 2.06.94-2.06 2.06-.94-2.06-.94-.94-2.06-.94 2.06-2.06.94z\"/><path d=\"M17.41 7.96l-1.37-1.37c-.4-.4-.92-.59-1.43-.59-.52 0-1.04.2-1.43.59L10.3 9.45l-7.72 7.72c-.78.78-.78 2.05 0 2.83L4 21.41c.39.39.9.59 1.41.59.51 0 1.02-.2 1.41-.59l7.78-7.78 2.81-2.81c.8-.78.8-2.07 0-2.86zM5.41 20L4 18.59l7.72-7.72 1.47 1.35L5.41 20z\"/>\n",
       "  </svg>\n",
       "      </button>\n",
       "      \n",
       "  <style>\n",
       "    .colab-df-container {\n",
       "      display:flex;\n",
       "      flex-wrap:wrap;\n",
       "      gap: 12px;\n",
       "    }\n",
       "\n",
       "    .colab-df-convert {\n",
       "      background-color: #E8F0FE;\n",
       "      border: none;\n",
       "      border-radius: 50%;\n",
       "      cursor: pointer;\n",
       "      display: none;\n",
       "      fill: #1967D2;\n",
       "      height: 32px;\n",
       "      padding: 0 0 0 0;\n",
       "      width: 32px;\n",
       "    }\n",
       "\n",
       "    .colab-df-convert:hover {\n",
       "      background-color: #E2EBFA;\n",
       "      box-shadow: 0px 1px 2px rgba(60, 64, 67, 0.3), 0px 1px 3px 1px rgba(60, 64, 67, 0.15);\n",
       "      fill: #174EA6;\n",
       "    }\n",
       "\n",
       "    [theme=dark] .colab-df-convert {\n",
       "      background-color: #3B4455;\n",
       "      fill: #D2E3FC;\n",
       "    }\n",
       "\n",
       "    [theme=dark] .colab-df-convert:hover {\n",
       "      background-color: #434B5C;\n",
       "      box-shadow: 0px 1px 3px 1px rgba(0, 0, 0, 0.15);\n",
       "      filter: drop-shadow(0px 1px 2px rgba(0, 0, 0, 0.3));\n",
       "      fill: #FFFFFF;\n",
       "    }\n",
       "  </style>\n",
       "\n",
       "      <script>\n",
       "        const buttonEl =\n",
       "          document.querySelector('#df-e439bea6-e6d1-4088-ba6e-cb4872f07f54 button.colab-df-convert');\n",
       "        buttonEl.style.display =\n",
       "          google.colab.kernel.accessAllowed ? 'block' : 'none';\n",
       "\n",
       "        async function convertToInteractive(key) {\n",
       "          const element = document.querySelector('#df-e439bea6-e6d1-4088-ba6e-cb4872f07f54');\n",
       "          const dataTable =\n",
       "            await google.colab.kernel.invokeFunction('convertToInteractive',\n",
       "                                                     [key], {});\n",
       "          if (!dataTable) return;\n",
       "\n",
       "          const docLinkHtml = 'Like what you see? Visit the ' +\n",
       "            '<a target=\"_blank\" href=https://colab.research.google.com/notebooks/data_table.ipynb>data table notebook</a>'\n",
       "            + ' to learn more about interactive tables.';\n",
       "          element.innerHTML = '';\n",
       "          dataTable['output_type'] = 'display_data';\n",
       "          await google.colab.output.renderOutput(dataTable, element);\n",
       "          const docLink = document.createElement('div');\n",
       "          docLink.innerHTML = docLinkHtml;\n",
       "          element.appendChild(docLink);\n",
       "        }\n",
       "      </script>\n",
       "    </div>\n",
       "  </div>\n",
       "  "
      ],
      "text/plain": [
       "         Date      Open       High       Low    Close  Adj Close   Volume\n",
       "0  1999-03-11  51.43750  51.734375  50.31250  51.3125  44.226849  9688600\n",
       "1  1999-03-12  51.12500  51.156250  49.65625  50.0625  43.149475  8743600\n",
       "2  1999-03-15  50.43750  51.562500  49.90625  51.5000  44.388466  6369000\n",
       "3  1999-03-16  51.71875  52.156250  51.15625  51.9375  44.765564  4905800\n",
       "4  1999-03-17  51.93750  52.000000  51.40625  51.5625  44.442318  3965000"
      ]
     },
     "execution_count": 5,
     "metadata": {},
     "output_type": "execute_result"
    }
   ],
   "source": [
    "dataset.head()"
   ]
  },
  {
   "cell_type": "markdown",
   "metadata": {
    "id": "h0YMTOydCBRq"
   },
   "source": [
    "# Data Processing"
   ]
  },
  {
   "cell_type": "code",
   "execution_count": 6,
   "metadata": {
    "colab": {
     "base_uri": "https://localhost:8080/",
     "height": 424
    },
    "id": "LZKg5Xqd9E1_",
    "outputId": "ae5277d3-00a8-4955-b637-d845e09a2dc1"
   },
   "outputs": [
    {
     "data": {
      "text/html": [
       "\n",
       "  <div id=\"df-a0b0eb2d-f43f-440d-a95d-833af03e860e\">\n",
       "    <div class=\"colab-df-container\">\n",
       "      <div>\n",
       "<style scoped>\n",
       "    .dataframe tbody tr th:only-of-type {\n",
       "        vertical-align: middle;\n",
       "    }\n",
       "\n",
       "    .dataframe tbody tr th {\n",
       "        vertical-align: top;\n",
       "    }\n",
       "\n",
       "    .dataframe thead th {\n",
       "        text-align: right;\n",
       "    }\n",
       "</style>\n",
       "<table border=\"1\" class=\"dataframe\">\n",
       "  <thead>\n",
       "    <tr style=\"text-align: right;\">\n",
       "      <th></th>\n",
       "      <th>Date</th>\n",
       "      <th>Open</th>\n",
       "      <th>High</th>\n",
       "      <th>Low</th>\n",
       "      <th>Close</th>\n",
       "      <th>Adj Close</th>\n",
       "      <th>Volume</th>\n",
       "      <th>Label</th>\n",
       "    </tr>\n",
       "  </thead>\n",
       "  <tbody>\n",
       "    <tr>\n",
       "      <th>0</th>\n",
       "      <td>1999-03-11</td>\n",
       "      <td>51.437500</td>\n",
       "      <td>51.734375</td>\n",
       "      <td>50.312500</td>\n",
       "      <td>51.312500</td>\n",
       "      <td>44.226849</td>\n",
       "      <td>9688600</td>\n",
       "      <td>50.062500</td>\n",
       "    </tr>\n",
       "    <tr>\n",
       "      <th>1</th>\n",
       "      <td>1999-03-12</td>\n",
       "      <td>51.125000</td>\n",
       "      <td>51.156250</td>\n",
       "      <td>49.656250</td>\n",
       "      <td>50.062500</td>\n",
       "      <td>43.149475</td>\n",
       "      <td>8743600</td>\n",
       "      <td>51.500000</td>\n",
       "    </tr>\n",
       "    <tr>\n",
       "      <th>2</th>\n",
       "      <td>1999-03-15</td>\n",
       "      <td>50.437500</td>\n",
       "      <td>51.562500</td>\n",
       "      <td>49.906250</td>\n",
       "      <td>51.500000</td>\n",
       "      <td>44.388466</td>\n",
       "      <td>6369000</td>\n",
       "      <td>51.937500</td>\n",
       "    </tr>\n",
       "    <tr>\n",
       "      <th>3</th>\n",
       "      <td>1999-03-16</td>\n",
       "      <td>51.718750</td>\n",
       "      <td>52.156250</td>\n",
       "      <td>51.156250</td>\n",
       "      <td>51.937500</td>\n",
       "      <td>44.765564</td>\n",
       "      <td>4905800</td>\n",
       "      <td>51.562500</td>\n",
       "    </tr>\n",
       "    <tr>\n",
       "      <th>4</th>\n",
       "      <td>1999-03-17</td>\n",
       "      <td>51.937500</td>\n",
       "      <td>52.000000</td>\n",
       "      <td>51.406250</td>\n",
       "      <td>51.562500</td>\n",
       "      <td>44.442318</td>\n",
       "      <td>3965000</td>\n",
       "      <td>52.562500</td>\n",
       "    </tr>\n",
       "    <tr>\n",
       "      <th>...</th>\n",
       "      <td>...</td>\n",
       "      <td>...</td>\n",
       "      <td>...</td>\n",
       "      <td>...</td>\n",
       "      <td>...</td>\n",
       "      <td>...</td>\n",
       "      <td>...</td>\n",
       "      <td>...</td>\n",
       "    </tr>\n",
       "    <tr>\n",
       "      <th>5947</th>\n",
       "      <td>2022-10-26</td>\n",
       "      <td>278.459991</td>\n",
       "      <td>283.980011</td>\n",
       "      <td>277.429993</td>\n",
       "      <td>277.929993</td>\n",
       "      <td>277.929993</td>\n",
       "      <td>63492400</td>\n",
       "      <td>272.869995</td>\n",
       "    </tr>\n",
       "    <tr>\n",
       "      <th>5948</th>\n",
       "      <td>2022-10-27</td>\n",
       "      <td>276.790009</td>\n",
       "      <td>278.279999</td>\n",
       "      <td>272.339996</td>\n",
       "      <td>272.869995</td>\n",
       "      <td>272.869995</td>\n",
       "      <td>57760300</td>\n",
       "      <td>281.220001</td>\n",
       "    </tr>\n",
       "    <tr>\n",
       "      <th>5949</th>\n",
       "      <td>2022-10-28</td>\n",
       "      <td>272.230011</td>\n",
       "      <td>281.700012</td>\n",
       "      <td>272.059998</td>\n",
       "      <td>281.220001</td>\n",
       "      <td>281.220001</td>\n",
       "      <td>62651300</td>\n",
       "      <td>277.950012</td>\n",
       "    </tr>\n",
       "    <tr>\n",
       "      <th>5950</th>\n",
       "      <td>2022-10-31</td>\n",
       "      <td>278.920013</td>\n",
       "      <td>279.760010</td>\n",
       "      <td>275.989990</td>\n",
       "      <td>277.950012</td>\n",
       "      <td>277.950012</td>\n",
       "      <td>47742000</td>\n",
       "      <td>275.109985</td>\n",
       "    </tr>\n",
       "    <tr>\n",
       "      <th>5951</th>\n",
       "      <td>2022-11-01</td>\n",
       "      <td>281.500000</td>\n",
       "      <td>282.070007</td>\n",
       "      <td>274.739990</td>\n",
       "      <td>275.109985</td>\n",
       "      <td>275.109985</td>\n",
       "      <td>45791000</td>\n",
       "      <td>NaN</td>\n",
       "    </tr>\n",
       "  </tbody>\n",
       "</table>\n",
       "<p>5952 rows × 8 columns</p>\n",
       "</div>\n",
       "      <button class=\"colab-df-convert\" onclick=\"convertToInteractive('df-a0b0eb2d-f43f-440d-a95d-833af03e860e')\"\n",
       "              title=\"Convert this dataframe to an interactive table.\"\n",
       "              style=\"display:none;\">\n",
       "        \n",
       "  <svg xmlns=\"http://www.w3.org/2000/svg\" height=\"24px\"viewBox=\"0 0 24 24\"\n",
       "       width=\"24px\">\n",
       "    <path d=\"M0 0h24v24H0V0z\" fill=\"none\"/>\n",
       "    <path d=\"M18.56 5.44l.94 2.06.94-2.06 2.06-.94-2.06-.94-.94-2.06-.94 2.06-2.06.94zm-11 1L8.5 8.5l.94-2.06 2.06-.94-2.06-.94L8.5 2.5l-.94 2.06-2.06.94zm10 10l.94 2.06.94-2.06 2.06-.94-2.06-.94-.94-2.06-.94 2.06-2.06.94z\"/><path d=\"M17.41 7.96l-1.37-1.37c-.4-.4-.92-.59-1.43-.59-.52 0-1.04.2-1.43.59L10.3 9.45l-7.72 7.72c-.78.78-.78 2.05 0 2.83L4 21.41c.39.39.9.59 1.41.59.51 0 1.02-.2 1.41-.59l7.78-7.78 2.81-2.81c.8-.78.8-2.07 0-2.86zM5.41 20L4 18.59l7.72-7.72 1.47 1.35L5.41 20z\"/>\n",
       "  </svg>\n",
       "      </button>\n",
       "      \n",
       "  <style>\n",
       "    .colab-df-container {\n",
       "      display:flex;\n",
       "      flex-wrap:wrap;\n",
       "      gap: 12px;\n",
       "    }\n",
       "\n",
       "    .colab-df-convert {\n",
       "      background-color: #E8F0FE;\n",
       "      border: none;\n",
       "      border-radius: 50%;\n",
       "      cursor: pointer;\n",
       "      display: none;\n",
       "      fill: #1967D2;\n",
       "      height: 32px;\n",
       "      padding: 0 0 0 0;\n",
       "      width: 32px;\n",
       "    }\n",
       "\n",
       "    .colab-df-convert:hover {\n",
       "      background-color: #E2EBFA;\n",
       "      box-shadow: 0px 1px 2px rgba(60, 64, 67, 0.3), 0px 1px 3px 1px rgba(60, 64, 67, 0.15);\n",
       "      fill: #174EA6;\n",
       "    }\n",
       "\n",
       "    [theme=dark] .colab-df-convert {\n",
       "      background-color: #3B4455;\n",
       "      fill: #D2E3FC;\n",
       "    }\n",
       "\n",
       "    [theme=dark] .colab-df-convert:hover {\n",
       "      background-color: #434B5C;\n",
       "      box-shadow: 0px 1px 3px 1px rgba(0, 0, 0, 0.15);\n",
       "      filter: drop-shadow(0px 1px 2px rgba(0, 0, 0, 0.3));\n",
       "      fill: #FFFFFF;\n",
       "    }\n",
       "  </style>\n",
       "\n",
       "      <script>\n",
       "        const buttonEl =\n",
       "          document.querySelector('#df-a0b0eb2d-f43f-440d-a95d-833af03e860e button.colab-df-convert');\n",
       "        buttonEl.style.display =\n",
       "          google.colab.kernel.accessAllowed ? 'block' : 'none';\n",
       "\n",
       "        async function convertToInteractive(key) {\n",
       "          const element = document.querySelector('#df-a0b0eb2d-f43f-440d-a95d-833af03e860e');\n",
       "          const dataTable =\n",
       "            await google.colab.kernel.invokeFunction('convertToInteractive',\n",
       "                                                     [key], {});\n",
       "          if (!dataTable) return;\n",
       "\n",
       "          const docLinkHtml = 'Like what you see? Visit the ' +\n",
       "            '<a target=\"_blank\" href=https://colab.research.google.com/notebooks/data_table.ipynb>data table notebook</a>'\n",
       "            + ' to learn more about interactive tables.';\n",
       "          element.innerHTML = '';\n",
       "          dataTable['output_type'] = 'display_data';\n",
       "          await google.colab.output.renderOutput(dataTable, element);\n",
       "          const docLink = document.createElement('div');\n",
       "          docLink.innerHTML = docLinkHtml;\n",
       "          element.appendChild(docLink);\n",
       "        }\n",
       "      </script>\n",
       "    </div>\n",
       "  </div>\n",
       "  "
      ],
      "text/plain": [
       "            Date        Open        High         Low       Close   Adj Close  \\\n",
       "0     1999-03-11   51.437500   51.734375   50.312500   51.312500   44.226849   \n",
       "1     1999-03-12   51.125000   51.156250   49.656250   50.062500   43.149475   \n",
       "2     1999-03-15   50.437500   51.562500   49.906250   51.500000   44.388466   \n",
       "3     1999-03-16   51.718750   52.156250   51.156250   51.937500   44.765564   \n",
       "4     1999-03-17   51.937500   52.000000   51.406250   51.562500   44.442318   \n",
       "...          ...         ...         ...         ...         ...         ...   \n",
       "5947  2022-10-26  278.459991  283.980011  277.429993  277.929993  277.929993   \n",
       "5948  2022-10-27  276.790009  278.279999  272.339996  272.869995  272.869995   \n",
       "5949  2022-10-28  272.230011  281.700012  272.059998  281.220001  281.220001   \n",
       "5950  2022-10-31  278.920013  279.760010  275.989990  277.950012  277.950012   \n",
       "5951  2022-11-01  281.500000  282.070007  274.739990  275.109985  275.109985   \n",
       "\n",
       "        Volume       Label  \n",
       "0      9688600   50.062500  \n",
       "1      8743600   51.500000  \n",
       "2      6369000   51.937500  \n",
       "3      4905800   51.562500  \n",
       "4      3965000   52.562500  \n",
       "...        ...         ...  \n",
       "5947  63492400  272.869995  \n",
       "5948  57760300  281.220001  \n",
       "5949  62651300  277.950012  \n",
       "5950  47742000  275.109985  \n",
       "5951  45791000         NaN  \n",
       "\n",
       "[5952 rows x 8 columns]"
      ]
     },
     "execution_count": 6,
     "metadata": {},
     "output_type": "execute_result"
    }
   ],
   "source": [
    "# Add a label to the dataset\n",
    "df_label = np.append(np.array(dataset[\"Close\"][1:]), np.nan)\n",
    "dataset[\"Label\"] = df_label\n",
    "dataset"
   ]
  },
  {
   "cell_type": "code",
   "execution_count": 7,
   "metadata": {
    "id": "ikcHottFqbqZ"
   },
   "outputs": [],
   "source": [
    "# A function to create a baseline model\n",
    "def baseline_prediction(dataframe, look_back):\n",
    "  baseline = []\n",
    "  df_close = np.array(dataframe[\"Close\"])\n",
    "  for i in range(len(dataframe)):\n",
    "    if i < look_back: \n",
    "      baseline.append(np.nan)\n",
    "    else:\n",
    "      value = 0\n",
    "      for j in range(look_back):\n",
    "        value += df_close[i-j] - df_close[i-j-1]\n",
    "      value = df_close[i] + value/look_back\n",
    "      baseline.append(value)\n",
    "  return baseline"
   ]
  },
  {
   "cell_type": "code",
   "execution_count": 8,
   "metadata": {
    "colab": {
     "base_uri": "https://localhost:8080/",
     "height": 424
    },
    "id": "EXl6WqzZ8Ip1",
    "outputId": "b1424c32-82a8-4ebf-8180-c463eaae7526"
   },
   "outputs": [
    {
     "data": {
      "text/html": [
       "\n",
       "  <div id=\"df-c0df1d5d-f84d-4dd3-b6c5-65bea786d648\">\n",
       "    <div class=\"colab-df-container\">\n",
       "      <div>\n",
       "<style scoped>\n",
       "    .dataframe tbody tr th:only-of-type {\n",
       "        vertical-align: middle;\n",
       "    }\n",
       "\n",
       "    .dataframe tbody tr th {\n",
       "        vertical-align: top;\n",
       "    }\n",
       "\n",
       "    .dataframe thead th {\n",
       "        text-align: right;\n",
       "    }\n",
       "</style>\n",
       "<table border=\"1\" class=\"dataframe\">\n",
       "  <thead>\n",
       "    <tr style=\"text-align: right;\">\n",
       "      <th></th>\n",
       "      <th>Date</th>\n",
       "      <th>Open</th>\n",
       "      <th>High</th>\n",
       "      <th>Low</th>\n",
       "      <th>Close</th>\n",
       "      <th>Adj Close</th>\n",
       "      <th>Volume</th>\n",
       "      <th>Label</th>\n",
       "      <th>Baseline</th>\n",
       "    </tr>\n",
       "  </thead>\n",
       "  <tbody>\n",
       "    <tr>\n",
       "      <th>0</th>\n",
       "      <td>1999-03-11</td>\n",
       "      <td>51.437500</td>\n",
       "      <td>51.734375</td>\n",
       "      <td>50.312500</td>\n",
       "      <td>51.312500</td>\n",
       "      <td>44.226849</td>\n",
       "      <td>9688600</td>\n",
       "      <td>50.062500</td>\n",
       "      <td>NaN</td>\n",
       "    </tr>\n",
       "    <tr>\n",
       "      <th>1</th>\n",
       "      <td>1999-03-12</td>\n",
       "      <td>51.125000</td>\n",
       "      <td>51.156250</td>\n",
       "      <td>49.656250</td>\n",
       "      <td>50.062500</td>\n",
       "      <td>43.149475</td>\n",
       "      <td>8743600</td>\n",
       "      <td>51.500000</td>\n",
       "      <td>NaN</td>\n",
       "    </tr>\n",
       "    <tr>\n",
       "      <th>2</th>\n",
       "      <td>1999-03-15</td>\n",
       "      <td>50.437500</td>\n",
       "      <td>51.562500</td>\n",
       "      <td>49.906250</td>\n",
       "      <td>51.500000</td>\n",
       "      <td>44.388466</td>\n",
       "      <td>6369000</td>\n",
       "      <td>51.937500</td>\n",
       "      <td>NaN</td>\n",
       "    </tr>\n",
       "    <tr>\n",
       "      <th>3</th>\n",
       "      <td>1999-03-16</td>\n",
       "      <td>51.718750</td>\n",
       "      <td>52.156250</td>\n",
       "      <td>51.156250</td>\n",
       "      <td>51.937500</td>\n",
       "      <td>44.765564</td>\n",
       "      <td>4905800</td>\n",
       "      <td>51.562500</td>\n",
       "      <td>NaN</td>\n",
       "    </tr>\n",
       "    <tr>\n",
       "      <th>4</th>\n",
       "      <td>1999-03-17</td>\n",
       "      <td>51.937500</td>\n",
       "      <td>52.000000</td>\n",
       "      <td>51.406250</td>\n",
       "      <td>51.562500</td>\n",
       "      <td>44.442318</td>\n",
       "      <td>3965000</td>\n",
       "      <td>52.562500</td>\n",
       "      <td>NaN</td>\n",
       "    </tr>\n",
       "    <tr>\n",
       "      <th>...</th>\n",
       "      <td>...</td>\n",
       "      <td>...</td>\n",
       "      <td>...</td>\n",
       "      <td>...</td>\n",
       "      <td>...</td>\n",
       "      <td>...</td>\n",
       "      <td>...</td>\n",
       "      <td>...</td>\n",
       "      <td>...</td>\n",
       "    </tr>\n",
       "    <tr>\n",
       "      <th>5947</th>\n",
       "      <td>2022-10-26</td>\n",
       "      <td>278.459991</td>\n",
       "      <td>283.980011</td>\n",
       "      <td>277.429993</td>\n",
       "      <td>277.929993</td>\n",
       "      <td>277.929993</td>\n",
       "      <td>63492400</td>\n",
       "      <td>272.869995</td>\n",
       "      <td>277.478743</td>\n",
       "    </tr>\n",
       "    <tr>\n",
       "      <th>5948</th>\n",
       "      <td>2022-10-27</td>\n",
       "      <td>276.790009</td>\n",
       "      <td>278.279999</td>\n",
       "      <td>272.339996</td>\n",
       "      <td>272.869995</td>\n",
       "      <td>272.869995</td>\n",
       "      <td>57760300</td>\n",
       "      <td>281.220001</td>\n",
       "      <td>272.292807</td>\n",
       "    </tr>\n",
       "    <tr>\n",
       "      <th>5949</th>\n",
       "      <td>2022-10-28</td>\n",
       "      <td>272.230011</td>\n",
       "      <td>281.700012</td>\n",
       "      <td>272.059998</td>\n",
       "      <td>281.220001</td>\n",
       "      <td>281.220001</td>\n",
       "      <td>62651300</td>\n",
       "      <td>277.950012</td>\n",
       "      <td>280.685001</td>\n",
       "    </tr>\n",
       "    <tr>\n",
       "      <th>5950</th>\n",
       "      <td>2022-10-31</td>\n",
       "      <td>278.920013</td>\n",
       "      <td>279.760010</td>\n",
       "      <td>275.989990</td>\n",
       "      <td>277.950012</td>\n",
       "      <td>277.950012</td>\n",
       "      <td>47742000</td>\n",
       "      <td>275.109985</td>\n",
       "      <td>277.366887</td>\n",
       "    </tr>\n",
       "    <tr>\n",
       "      <th>5951</th>\n",
       "      <td>2022-11-01</td>\n",
       "      <td>281.500000</td>\n",
       "      <td>282.070007</td>\n",
       "      <td>274.739990</td>\n",
       "      <td>275.109985</td>\n",
       "      <td>275.109985</td>\n",
       "      <td>45791000</td>\n",
       "      <td>NaN</td>\n",
       "      <td>274.497172</td>\n",
       "    </tr>\n",
       "  </tbody>\n",
       "</table>\n",
       "<p>5952 rows × 9 columns</p>\n",
       "</div>\n",
       "      <button class=\"colab-df-convert\" onclick=\"convertToInteractive('df-c0df1d5d-f84d-4dd3-b6c5-65bea786d648')\"\n",
       "              title=\"Convert this dataframe to an interactive table.\"\n",
       "              style=\"display:none;\">\n",
       "        \n",
       "  <svg xmlns=\"http://www.w3.org/2000/svg\" height=\"24px\"viewBox=\"0 0 24 24\"\n",
       "       width=\"24px\">\n",
       "    <path d=\"M0 0h24v24H0V0z\" fill=\"none\"/>\n",
       "    <path d=\"M18.56 5.44l.94 2.06.94-2.06 2.06-.94-2.06-.94-.94-2.06-.94 2.06-2.06.94zm-11 1L8.5 8.5l.94-2.06 2.06-.94-2.06-.94L8.5 2.5l-.94 2.06-2.06.94zm10 10l.94 2.06.94-2.06 2.06-.94-2.06-.94-.94-2.06-.94 2.06-2.06.94z\"/><path d=\"M17.41 7.96l-1.37-1.37c-.4-.4-.92-.59-1.43-.59-.52 0-1.04.2-1.43.59L10.3 9.45l-7.72 7.72c-.78.78-.78 2.05 0 2.83L4 21.41c.39.39.9.59 1.41.59.51 0 1.02-.2 1.41-.59l7.78-7.78 2.81-2.81c.8-.78.8-2.07 0-2.86zM5.41 20L4 18.59l7.72-7.72 1.47 1.35L5.41 20z\"/>\n",
       "  </svg>\n",
       "      </button>\n",
       "      \n",
       "  <style>\n",
       "    .colab-df-container {\n",
       "      display:flex;\n",
       "      flex-wrap:wrap;\n",
       "      gap: 12px;\n",
       "    }\n",
       "\n",
       "    .colab-df-convert {\n",
       "      background-color: #E8F0FE;\n",
       "      border: none;\n",
       "      border-radius: 50%;\n",
       "      cursor: pointer;\n",
       "      display: none;\n",
       "      fill: #1967D2;\n",
       "      height: 32px;\n",
       "      padding: 0 0 0 0;\n",
       "      width: 32px;\n",
       "    }\n",
       "\n",
       "    .colab-df-convert:hover {\n",
       "      background-color: #E2EBFA;\n",
       "      box-shadow: 0px 1px 2px rgba(60, 64, 67, 0.3), 0px 1px 3px 1px rgba(60, 64, 67, 0.15);\n",
       "      fill: #174EA6;\n",
       "    }\n",
       "\n",
       "    [theme=dark] .colab-df-convert {\n",
       "      background-color: #3B4455;\n",
       "      fill: #D2E3FC;\n",
       "    }\n",
       "\n",
       "    [theme=dark] .colab-df-convert:hover {\n",
       "      background-color: #434B5C;\n",
       "      box-shadow: 0px 1px 3px 1px rgba(0, 0, 0, 0.15);\n",
       "      filter: drop-shadow(0px 1px 2px rgba(0, 0, 0, 0.3));\n",
       "      fill: #FFFFFF;\n",
       "    }\n",
       "  </style>\n",
       "\n",
       "      <script>\n",
       "        const buttonEl =\n",
       "          document.querySelector('#df-c0df1d5d-f84d-4dd3-b6c5-65bea786d648 button.colab-df-convert');\n",
       "        buttonEl.style.display =\n",
       "          google.colab.kernel.accessAllowed ? 'block' : 'none';\n",
       "\n",
       "        async function convertToInteractive(key) {\n",
       "          const element = document.querySelector('#df-c0df1d5d-f84d-4dd3-b6c5-65bea786d648');\n",
       "          const dataTable =\n",
       "            await google.colab.kernel.invokeFunction('convertToInteractive',\n",
       "                                                     [key], {});\n",
       "          if (!dataTable) return;\n",
       "\n",
       "          const docLinkHtml = 'Like what you see? Visit the ' +\n",
       "            '<a target=\"_blank\" href=https://colab.research.google.com/notebooks/data_table.ipynb>data table notebook</a>'\n",
       "            + ' to learn more about interactive tables.';\n",
       "          element.innerHTML = '';\n",
       "          dataTable['output_type'] = 'display_data';\n",
       "          await google.colab.output.renderOutput(dataTable, element);\n",
       "          const docLink = document.createElement('div');\n",
       "          docLink.innerHTML = docLinkHtml;\n",
       "          element.appendChild(docLink);\n",
       "        }\n",
       "      </script>\n",
       "    </div>\n",
       "  </div>\n",
       "  "
      ],
      "text/plain": [
       "            Date        Open        High         Low       Close   Adj Close  \\\n",
       "0     1999-03-11   51.437500   51.734375   50.312500   51.312500   44.226849   \n",
       "1     1999-03-12   51.125000   51.156250   49.656250   50.062500   43.149475   \n",
       "2     1999-03-15   50.437500   51.562500   49.906250   51.500000   44.388466   \n",
       "3     1999-03-16   51.718750   52.156250   51.156250   51.937500   44.765564   \n",
       "4     1999-03-17   51.937500   52.000000   51.406250   51.562500   44.442318   \n",
       "...          ...         ...         ...         ...         ...         ...   \n",
       "5947  2022-10-26  278.459991  283.980011  277.429993  277.929993  277.929993   \n",
       "5948  2022-10-27  276.790009  278.279999  272.339996  272.869995  272.869995   \n",
       "5949  2022-10-28  272.230011  281.700012  272.059998  281.220001  281.220001   \n",
       "5950  2022-10-31  278.920013  279.760010  275.989990  277.950012  277.950012   \n",
       "5951  2022-11-01  281.500000  282.070007  274.739990  275.109985  275.109985   \n",
       "\n",
       "        Volume       Label    Baseline  \n",
       "0      9688600   50.062500         NaN  \n",
       "1      8743600   51.500000         NaN  \n",
       "2      6369000   51.937500         NaN  \n",
       "3      4905800   51.562500         NaN  \n",
       "4      3965000   52.562500         NaN  \n",
       "...        ...         ...         ...  \n",
       "5947  63492400  272.869995  277.478743  \n",
       "5948  57760300  281.220001  272.292807  \n",
       "5949  62651300  277.950012  280.685001  \n",
       "5950  47742000  275.109985  277.366887  \n",
       "5951  45791000         NaN  274.497172  \n",
       "\n",
       "[5952 rows x 9 columns]"
      ]
     },
     "execution_count": 8,
     "metadata": {},
     "output_type": "execute_result"
    }
   ],
   "source": [
    "# Create a baseline model with a lookback period of 64\n",
    "baseline = baseline_prediction(dataset, 64)\n",
    "dataset[\"Baseline\"] = baseline\n",
    "dataset"
   ]
  },
  {
   "cell_type": "code",
   "execution_count": 9,
   "metadata": {
    "id": "-Ra_wgwOBcBa"
   },
   "outputs": [],
   "source": [
    "# Split the dataset into a training, validation and testing set in a ratio of 80:10:10\n",
    "training_df = dataset.iloc[:4800, :]\n",
    "validation_df = dataset.iloc[4800:5375, :]\n",
    "testing_df = dataset.iloc[5375:, :]"
   ]
  },
  {
   "cell_type": "code",
   "execution_count": 10,
   "metadata": {
    "colab": {
     "base_uri": "https://localhost:8080/"
    },
    "id": "liXy3mkCrSM_",
    "outputId": "ca931573-55a6-4975-92ee-a108084a52c8"
   },
   "outputs": [
    {
     "name": "stdout",
     "output_type": "stream",
     "text": [
      "Training datafram shape: (4800, 9)\n",
      "Validation datafram shape: (575, 9)\n",
      "Testing dataframe shape: (577, 9)\n"
     ]
    }
   ],
   "source": [
    "print(f\"Training datafram shape: {training_df.shape}\")\n",
    "print(f\"Validation datafram shape: {validation_df.shape}\")\n",
    "print(f\"Testing dataframe shape: {testing_df.shape}\")"
   ]
  },
  {
   "cell_type": "code",
   "execution_count": 11,
   "metadata": {
    "id": "9eSzQSkOrmZF"
   },
   "outputs": [],
   "source": [
    "# Create custom dataset to the datasets work in batches \n",
    "class custom_dataset:\n",
    "  def __init__(self, dataset, seq_len):\n",
    "    self._dataset = dataset\n",
    "    self._seq_len = seq_len\n",
    "    self._scalar = None\n",
    "    self._close = None\n",
    "    self._close_normalized = self.normalized()\n",
    "    self._feature = self.feature_vector()\n",
    "    self._label = self.label_vector()\n",
    "    self._dataset_shape = dataset.shape\n",
    "  \n",
    "  # Normalize the dataset\n",
    "  def normalized(self):\n",
    "    self._close = self._dataset.loc[:,\"Close\"].to_numpy()\n",
    "    self._scalar = MinMaxScaler()\n",
    "    self._close_normalized = self._scalar.fit_transform(self._close.reshape(-1,1))\n",
    "    self._close_normalized = self._close_normalized.ravel()\n",
    "    return self._close_normalized\n",
    "  \n",
    "  # Create feature vectors for the dataset(a lookback period of the close price)\n",
    "  def feature_vector(self):\n",
    "    self._feature = []\n",
    "    for value in range(self._seq_len, len(self._close_normalized)):\n",
    "      self._feature.append(self._close_normalized[(value-self._seq_len):value])\n",
    "    self._feature = torch.Tensor(self._feature).unsqueeze(2)\n",
    "    return self._feature\n",
    "  \n",
    "  # Create labels for the dataset(close price of tomorrow)\n",
    "  def label_vector(self):\n",
    "    self._label = torch.Tensor(self._close_normalized[self._seq_len:].reshape(-1,1))\n",
    "    return self._label\n",
    "\n",
    "  # inverse transform the normalized data to original scale\n",
    "  def inverse_transform(self, pred):\n",
    "    pred = np.array(pred).reshape(-1,1)\n",
    "    return self._scalar.inverse_transform(pred).ravel()\n",
    "\n",
    "  # length of the dataset \n",
    "  def __len__(self):\n",
    "    return self._label.shape[0]\n",
    "  \n",
    "  # return (feature vector, label)\n",
    "  def __getitem__(self, index):\n",
    "    data = self._feature[index]\n",
    "    label = self._label[index]\n",
    "    return (data, label)"
   ]
  },
  {
   "cell_type": "code",
   "execution_count": 12,
   "metadata": {
    "colab": {
     "base_uri": "https://localhost:8080/"
    },
    "id": "ld9P-M7ebywO",
    "outputId": "e218c58b-7549-40b1-88b8-8e84696c840e"
   },
   "outputs": [
    {
     "name": "stderr",
     "output_type": "stream",
     "text": [
      "/usr/local/lib/python3.7/dist-packages/ipykernel_launcher.py:23: UserWarning: Creating a tensor from a list of numpy.ndarrays is extremely slow. Please consider converting the list to a single numpy.ndarray with numpy.array() before converting to a tensor. (Triggered internally at  ../torch/csrc/utils/tensor_new.cpp:201.)\n"
     ]
    }
   ],
   "source": [
    "# A test to see the custom dataset is working\n",
    "sequence_length = 10\n",
    "training_set = custom_dataset(dataset=training_df, seq_len=sequence_length)\n",
    "validation_set = custom_dataset(dataset=validation_df, seq_len=sequence_length)\n",
    "testing_set = custom_dataset(dataset=testing_df, seq_len=sequence_length)"
   ]
  },
  {
   "cell_type": "code",
   "execution_count": 13,
   "metadata": {
    "colab": {
     "base_uri": "https://localhost:8080/"
    },
    "id": "yKOKHHNhiv6a",
    "outputId": "b7a8b25b-3e46-4702-aa7e-5c5dbf13aecc"
   },
   "outputs": [
    {
     "name": "stdout",
     "output_type": "stream",
     "text": [
      "Training set feature shape: torch.Size([4790, 10, 1])\n",
      "Training set label shape: torch.Size([4790, 1])\n",
      "Validation set feature shape: torch.Size([565, 10, 1])\n",
      "Validation set label shape: torch.Size([565, 1])\n",
      "Testing set feature shape: torch.Size([567, 10, 1])\n",
      "Testing set label shape: torch.Size([567, 1])\n"
     ]
    }
   ],
   "source": [
    "print(f\"Training set feature shape: {training_set._feature.size()}\")\n",
    "print(f\"Training set label shape: {training_set._label.size()}\")\n",
    "print(f\"Validation set feature shape: {validation_set._feature.size()}\")\n",
    "print(f\"Validation set label shape: {validation_set._label.size()}\")\n",
    "print(f\"Testing set feature shape: {testing_set._feature.size()}\")\n",
    "print(f\"Testing set label shape: {testing_set._label.size()}\")"
   ]
  },
  {
   "cell_type": "code",
   "execution_count": 14,
   "metadata": {
    "colab": {
     "base_uri": "https://localhost:8080/"
    },
    "id": "ucuE-z5AW_Z9",
    "outputId": "c680e153-1d46-48b1-bbd0-898d59f30bcb"
   },
   "outputs": [
    {
     "name": "stdout",
     "output_type": "stream",
     "text": [
      "feature: tensor([[0.9535],\n",
      "        [0.9268],\n",
      "        [0.8989],\n",
      "        [0.9372],\n",
      "        [0.9026],\n",
      "        [0.8907],\n",
      "        [0.9094],\n",
      "        [0.8794],\n",
      "        [0.8908],\n",
      "        [0.9069]]), label: tensor([0.9128])\n",
      "feature: tensor([[0.9268],\n",
      "        [0.8989],\n",
      "        [0.9372],\n",
      "        [0.9026],\n",
      "        [0.8907],\n",
      "        [0.9094],\n",
      "        [0.8794],\n",
      "        [0.8908],\n",
      "        [0.9069],\n",
      "        [0.9128]]), label: tensor([0.8867])\n"
     ]
    }
   ],
   "source": [
    "# Showing the custom dataset return correct feature vectors and labels\n",
    "print(f\"feature: {training_set._feature[-2]}, label: {training_set._label[-2]}\")\n",
    "print(f\"feature: {training_set._feature[-1]}, label: {training_set._label[-1]}\")"
   ]
  },
  {
   "cell_type": "code",
   "execution_count": 15,
   "metadata": {
    "id": "lcTjqpikbZS9"
   },
   "outputs": [],
   "source": [
    "# A test of putting custom datasets into data loaders\n",
    "batch_size = 32\n",
    "train_loader = DataLoader(dataset=training_set, batch_size=batch_size)\n",
    "valid_loader = DataLoader(dataset=validation_set, batch_size=batch_size)\n",
    "test_loader = DataLoader(dataset=testing_set, batch_size=batch_size)"
   ]
  },
  {
   "cell_type": "markdown",
   "metadata": {
    "id": "i4E5czenCG80"
   },
   "source": [
    "# Model Building"
   ]
  },
  {
   "cell_type": "code",
   "execution_count": 16,
   "metadata": {
    "id": "Ng8904CgnCfg"
   },
   "outputs": [],
   "source": [
    "# RNN \n",
    "class RNN(nn.Module):\n",
    "  def __init__(self, input_dim, hidden_dim, layer_dim, seq_len):\n",
    "    super(RNN, self).__init__()\n",
    "    self._input_dim = input_dim\n",
    "    self._hidden_dim = hidden_dim\n",
    "    self._layer_dim = layer_dim\n",
    "    self._out = None\n",
    "    self._h_c = None\n",
    "    # RNN cell layer\n",
    "    self._layer_1 = nn.RNN(input_size=self._input_dim, hidden_size=self._hidden_dim, num_layers=self._layer_dim, nonlinearity=\"relu\", batch_first=True)\n",
    "    # Fully connected layer\n",
    "    self.fc = nn.Linear(in_features=self._hidden_dim, out_features=1)\n",
    "  \n",
    "  def forward(self, x):\n",
    "    # Initial hidden state\n",
    "    hidden_state = torch.zeros(self._layer_dim, x.size(0), self._hidden_dim).to(device=device)\n",
    "\n",
    "    self._out, self._h = self._layer_1(x, hidden_state.detach())\n",
    "    self._out = self._out[:,-1,:].reshape(self._out.size(0), -1)\n",
    "    self._out = self.fc(self._out)\n",
    "    return self._out\n",
    "  "
   ]
  },
  {
   "cell_type": "code",
   "execution_count": 17,
   "metadata": {
    "id": "0ljlPeoywcdJ"
   },
   "outputs": [],
   "source": [
    "# LSTM\n",
    "class LSTM(nn.Module):\n",
    "  def __init__(self, input_dim, hidden_dim, layer_dim, seq_len):\n",
    "    super(LSTM, self).__init__()\n",
    "    self._input_dim = input_dim\n",
    "    self._hidden_dim = hidden_dim\n",
    "    self._layer_dim = layer_dim\n",
    "    self._out = None\n",
    "    self._h_c = None\n",
    "    # LSTM cell layer\n",
    "    self._layer_1 = nn.LSTM(input_size=self._input_dim, hidden_size=self._hidden_dim, num_layers=self._layer_dim, batch_first=True)\n",
    "    # Fully connected layer\n",
    "    self.fc = nn.Linear(in_features=self._hidden_dim, out_features=1)\n",
    "  \n",
    "  def forward(self, x):\n",
    "    # Initial hidden state and cell state\n",
    "    hidden_state = torch.zeros(self._layer_dim, x.size(0), self._hidden_dim).to(device=device) # Hidden state size = (layer length, batch size, hidden size)\n",
    "    cell_state = torch.zeros(self._layer_dim, x.size(0), self._hidden_dim).to(device=device)\n",
    "\n",
    "    self._out, self._h = self._layer_1(x, (hidden_state.detach(), cell_state.detach()))\n",
    "    self._out = self._out[:,-1,:].reshape(self._out.size(0), -1)\n",
    "    self._out = self.fc(self._out)\n",
    "    return self._out\n",
    "  "
   ]
  },
  {
   "cell_type": "code",
   "execution_count": 18,
   "metadata": {
    "id": "GpJ7T3eNdGee"
   },
   "outputs": [],
   "source": [
    "# GRU\n",
    "class GRU(nn.Module):\n",
    "  def __init__(self, input_dim, hidden_dim, layer_dim, seq_len):\n",
    "    super(GRU, self).__init__()\n",
    "    self._input_dim = input_dim\n",
    "    self._hidden_dim = hidden_dim\n",
    "    self._layer_dim = layer_dim\n",
    "    self._out = None\n",
    "    self._h = None\n",
    "    # GRU cell layer\n",
    "    self._layer_1 = nn.RNN(input_size=self._input_dim, hidden_size=self._hidden_dim, num_layers=self._layer_dim, batch_first=True)\n",
    "    # Fully connected layer\n",
    "    self.fc = nn.Linear(in_features=self._hidden_dim, out_features=1)\n",
    "  \n",
    "  def forward(self, x):\n",
    "    # Initial hidden state\n",
    "    hidden_state = torch.zeros(self._layer_dim, x.size(0), self._hidden_dim).to(device=device)\n",
    "\n",
    "    self._out, self._h = self._layer_1(x, hidden_state.detach())\n",
    "    self._out = self._out[:,-1,:].reshape(self._out.size(0), -1)\n",
    "    self._out = self.fc(self._out)\n",
    "    return self._out"
   ]
  },
  {
   "cell_type": "code",
   "execution_count": 19,
   "metadata": {
    "id": "UuEd_arBuT8M"
   },
   "outputs": [],
   "source": [
    "# Plot learning curve\n",
    "def learning_curve(train_loss_list, valid_loss_list):\n",
    "  fig, ax = plt.subplots(1,2,figsize=[12,8])\n",
    "  ax[0].plot([i for i in range(len(train_loss_list))], train_loss_list)\n",
    "  ax[1].plot([i for i in range(len(valid_loss_list))], valid_loss_list, c=\"orange\")\n",
    "  ax[0].set_title(\"Training Loss\")\n",
    "  ax[0].set_xlabel(\"Epoch\")\n",
    "  ax[0].set_ylabel(\"Loss\")\n",
    "  ax[1].set_title(\"Validation Loss\")\n",
    "  ax[1].set_xlabel(\"Epoch\")\n",
    "  ax[1].set_ylabel(\"Loss\")\n",
    "  return fig"
   ]
  },
  {
   "cell_type": "code",
   "execution_count": 21,
   "metadata": {
    "id": "163mtbiYKkxO"
   },
   "outputs": [],
   "source": [
    "# Training of the model\n",
    "def train(model, train_data, valid_data, max_epochs, early_stopping=5, min_improvement=1e-3, verbose=False, lr_curve=False):\n",
    "  # Parameter\n",
    "  epoch = 1\n",
    "  train_loss_list = []\n",
    "  valid_loss_list = []\n",
    "  n_no_improvement = 0\n",
    "  min_loss = np.inf\n",
    "  while epoch <= max_epochs and n_no_improvement < early_stopping:\n",
    "    # Training with the training set\n",
    "    model.train()\n",
    "    for (data, label) in train_data:\n",
    "      data = data.to(device=device, dtype=torch.float32)\n",
    "      label = label.to(device=device, dtype=torch.float32)\n",
    "\n",
    "      outputs = model(data)\n",
    "\n",
    "      loss = criterion(outputs, label)\n",
    "      optimizer.zero_grad()\n",
    "      loss.backward()\n",
    "      optimizer.step()\n",
    "    \n",
    "    # Evaluate with the training set\n",
    "    with torch.no_grad():\n",
    "      model.eval()\n",
    "      loss = 0\n",
    "      for (data, label) in train_data:\n",
    "        data = data.to(device=device, dtype=torch.float32)\n",
    "        label = label.cpu().detach().numpy()\n",
    "        outputs = model(data).cpu().detach().numpy()\n",
    "        loss += mean_squared_error(outputs, label)\n",
    "      train_loss_list.append(loss.item())\n",
    "\n",
    "    # Evaluate with the validation set\n",
    "    with torch.no_grad():\n",
    "      model.eval()\n",
    "      loss = 0\n",
    "      for (data, label) in valid_data:\n",
    "        data = data.to(device=device, dtype=torch.float32)\n",
    "        label = label.cpu().detach().numpy()\n",
    "        outputs = model(data).cpu().detach().numpy()\n",
    "        loss += mean_squared_error(outputs, label)\n",
    "      valid_loss_list.append(loss.item())\n",
    "      # Print training epochs' details\n",
    "      if verbose == True:\n",
    "        print(f\"epoch:{epoch} loss:{loss}\")\n",
    "      \n",
    "      # Early stopping \n",
    "      if min_loss-loss.item() > min_improvement:\n",
    "        min_loss = loss.item()\n",
    "        n_no_improvement = 0\n",
    "      else:\n",
    "        n_no_improvement += 1\n",
    "\n",
    "    epoch += 1\n",
    "  print(f\"final loss: {valid_loss_list[-1]}, number of epoch: {epoch-1}\")\n",
    "\n",
    "  # Print a learning curve\n",
    "  if lr_curve == True:\n",
    "    fig = learning_curve(train_loss_list, valid_loss_list)\n",
    "    return model, fig\n",
    "  else:\n",
    "    return model, valid_loss_list"
   ]
  },
  {
   "cell_type": "code",
   "execution_count": 22,
   "metadata": {
    "id": "hTRe9dBGSBbO"
   },
   "outputs": [],
   "source": [
    "# A function for evaluation \n",
    "def evaluate(model, test_data):\n",
    "  model.eval()\n",
    "  loss = 0\n",
    "  prediction = []\n",
    "  with torch.no_grad():\n",
    "    for (data, label) in test_data:\n",
    "      data = data.to(device=device, dtype=torch.float32)\n",
    "      label = label.to(device=device, dtype=torch.float32)\n",
    "      outputs = model(data)\n",
    "      loss += torch.square(outputs-label).sum()\n",
    "      for value in outputs:\n",
    "        prediction.append(value.item())\n",
    "  return outputs, prediction"
   ]
  },
  {
   "cell_type": "markdown",
   "metadata": {
    "id": "Yb4qAo3MCPRA"
   },
   "source": [
    "# Grid Search of the Optimal Setting"
   ]
  },
  {
   "cell_type": "code",
   "execution_count": 23,
   "metadata": {
    "colab": {
     "base_uri": "https://localhost:8080/"
    },
    "id": "4xbbagCODPAC",
    "outputId": "4e0aa75e-968c-4ae0-af57-2a5c841f5a05"
   },
   "outputs": [
    {
     "name": "stdout",
     "output_type": "stream",
     "text": [
      "model:rnn sequence length: 2 layer_dim: 1 hidden size: 2\n",
      "final loss: 0.002001175715122372, number of epoch: 73\n",
      "\n",
      "\n",
      "model:rnn sequence length: 2 layer_dim: 2 hidden size: 2\n",
      "final loss: 0.17580739129334688, number of epoch: 44\n",
      "\n",
      "\n",
      "model:rnn sequence length: 2 layer_dim: 3 hidden size: 2\n",
      "final loss: 0.1860686708241701, number of epoch: 11\n",
      "\n",
      "\n",
      "model:rnn sequence length: 2 layer_dim: 1 hidden size: 32\n",
      "final loss: 0.0019961764046456665, number of epoch: 63\n",
      "\n",
      "\n",
      "model:rnn sequence length: 2 layer_dim: 2 hidden size: 32\n",
      "final loss: 0.0021124413469806314, number of epoch: 100\n",
      "\n",
      "\n",
      "model:rnn sequence length: 2 layer_dim: 3 hidden size: 32\n",
      "final loss: 0.002099802019074559, number of epoch: 100\n",
      "\n",
      "\n",
      "model:rnn sequence length: 2 layer_dim: 1 hidden size: 128\n",
      "final loss: 0.0019989247084595263, number of epoch: 59\n",
      "\n",
      "\n",
      "model:rnn sequence length: 2 layer_dim: 2 hidden size: 128\n",
      "final loss: 0.0020781329658348113, number of epoch: 70\n",
      "\n",
      "\n",
      "model:rnn sequence length: 2 layer_dim: 3 hidden size: 128\n",
      "final loss: 0.0021123046753928065, number of epoch: 100\n",
      "\n",
      "\n",
      "model:rnn sequence length: 16 layer_dim: 1 hidden size: 2\n",
      "final loss: 0.0021080808655824512, number of epoch: 44\n",
      "\n",
      "\n",
      "model:rnn sequence length: 16 layer_dim: 2 hidden size: 2\n",
      "final loss: 0.002047898538876325, number of epoch: 100\n",
      "\n",
      "\n",
      "model:rnn sequence length: 16 layer_dim: 3 hidden size: 2\n",
      "final loss: 0.19241845235228539, number of epoch: 66\n",
      "\n",
      "\n",
      "model:rnn sequence length: 16 layer_dim: 1 hidden size: 32\n",
      "final loss: 0.0023625578032806516, number of epoch: 83\n",
      "\n",
      "\n",
      "model:rnn sequence length: 16 layer_dim: 2 hidden size: 32\n",
      "final loss: 0.0027754650509450585, number of epoch: 44\n",
      "\n",
      "\n",
      "model:rnn sequence length: 16 layer_dim: 3 hidden size: 32\n",
      "final loss: 0.00390842545311898, number of epoch: 62\n",
      "\n",
      "\n",
      "model:rnn sequence length: 16 layer_dim: 1 hidden size: 128\n",
      "final loss: 0.0024470856587868184, number of epoch: 42\n",
      "\n",
      "\n",
      "model:rnn sequence length: 16 layer_dim: 2 hidden size: 128\n",
      "final loss: 0.002933638170361519, number of epoch: 49\n",
      "\n",
      "\n",
      "model:rnn sequence length: 16 layer_dim: 3 hidden size: 128\n",
      "final loss: 0.0031043102499097586, number of epoch: 68\n",
      "\n",
      "\n",
      "model:rnn sequence length: 64 layer_dim: 1 hidden size: 2\n",
      "final loss: 0.0019887804810423404, number of epoch: 98\n",
      "\n",
      "\n",
      "model:rnn sequence length: 64 layer_dim: 2 hidden size: 2\n",
      "final loss: 0.07401514425873756, number of epoch: 12\n",
      "\n",
      "\n",
      "model:rnn sequence length: 64 layer_dim: 3 hidden size: 2\n",
      "final loss: 0.07401514425873756, number of epoch: 12\n",
      "\n",
      "\n",
      "model:rnn sequence length: 64 layer_dim: 1 hidden size: 32\n",
      "final loss: 0.001932700863108039, number of epoch: 77\n",
      "\n",
      "\n",
      "model:rnn sequence length: 64 layer_dim: 2 hidden size: 32\n",
      "final loss: 0.0022214577766135335, number of epoch: 79\n",
      "\n",
      "\n",
      "model:rnn sequence length: 64 layer_dim: 3 hidden size: 32\n",
      "final loss: 0.002822198672220111, number of epoch: 81\n",
      "\n",
      "\n",
      "model:rnn sequence length: 64 layer_dim: 1 hidden size: 128\n",
      "final loss: 0.001657628279644996, number of epoch: 100\n",
      "\n",
      "\n",
      "model:rnn sequence length: 64 layer_dim: 2 hidden size: 128\n",
      "final loss: 0.001803642080631107, number of epoch: 100\n",
      "\n",
      "\n",
      "model:rnn sequence length: 64 layer_dim: 3 hidden size: 128\n",
      "final loss: 0.17186057940125465, number of epoch: 18\n",
      "\n",
      "\n",
      "model:lstm sequence length: 2 layer_dim: 1 hidden size: 2\n",
      "final loss: 0.0026681419112719595, number of epoch: 100\n",
      "\n",
      "\n",
      "model:lstm sequence length: 2 layer_dim: 2 hidden size: 2\n",
      "final loss: 0.1876684371381998, number of epoch: 11\n",
      "\n",
      "\n",
      "model:lstm sequence length: 2 layer_dim: 3 hidden size: 2\n",
      "final loss: 0.1889768186956644, number of epoch: 16\n",
      "\n",
      "\n",
      "model:lstm sequence length: 2 layer_dim: 1 hidden size: 32\n",
      "final loss: 0.0021700514189433306, number of epoch: 100\n",
      "\n",
      "\n",
      "model:lstm sequence length: 2 layer_dim: 2 hidden size: 32\n",
      "final loss: 0.13863092847168446, number of epoch: 100\n",
      "\n",
      "\n",
      "model:lstm sequence length: 2 layer_dim: 3 hidden size: 32\n",
      "final loss: 0.18401344865560532, number of epoch: 14\n",
      "\n",
      "\n",
      "model:lstm sequence length: 2 layer_dim: 1 hidden size: 128\n",
      "final loss: 0.0020938351517543197, number of epoch: 100\n",
      "\n",
      "\n",
      "model:lstm sequence length: 2 layer_dim: 2 hidden size: 128\n",
      "final loss: 0.13187157176434994, number of epoch: 100\n",
      "\n",
      "\n",
      "model:lstm sequence length: 2 layer_dim: 3 hidden size: 128\n",
      "final loss: 0.1828029965981841, number of epoch: 14\n",
      "\n",
      "\n",
      "model:lstm sequence length: 16 layer_dim: 1 hidden size: 2\n",
      "final loss: 0.003355017921421677, number of epoch: 100\n",
      "\n",
      "\n",
      "model:lstm sequence length: 16 layer_dim: 2 hidden size: 2\n",
      "final loss: 0.20948818884789944, number of epoch: 11\n",
      "\n",
      "\n",
      "model:lstm sequence length: 16 layer_dim: 3 hidden size: 2\n",
      "final loss: 0.21169697307050228, number of epoch: 11\n",
      "\n",
      "\n",
      "model:lstm sequence length: 16 layer_dim: 1 hidden size: 32\n",
      "final loss: 0.003107645083218813, number of epoch: 100\n",
      "\n",
      "\n",
      "model:lstm sequence length: 16 layer_dim: 2 hidden size: 32\n",
      "final loss: 0.005369110323954374, number of epoch: 100\n",
      "\n",
      "\n",
      "model:lstm sequence length: 16 layer_dim: 3 hidden size: 32\n",
      "final loss: 0.04000360146164894, number of epoch: 100\n",
      "\n",
      "\n",
      "model:lstm sequence length: 16 layer_dim: 1 hidden size: 128\n",
      "final loss: 0.0030734005849808455, number of epoch: 100\n",
      "\n",
      "\n",
      "model:lstm sequence length: 16 layer_dim: 2 hidden size: 128\n",
      "final loss: 0.005053678760305047, number of epoch: 100\n",
      "\n",
      "\n",
      "model:lstm sequence length: 16 layer_dim: 3 hidden size: 128\n",
      "final loss: 0.19698931090533733, number of epoch: 13\n",
      "\n",
      "\n",
      "model:lstm sequence length: 64 layer_dim: 1 hidden size: 2\n",
      "final loss: 0.0295064402744174, number of epoch: 100\n",
      "\n",
      "\n",
      "model:lstm sequence length: 64 layer_dim: 2 hidden size: 2\n",
      "final loss: 0.07361635193228722, number of epoch: 11\n",
      "\n",
      "\n",
      "model:lstm sequence length: 64 layer_dim: 3 hidden size: 2\n",
      "final loss: 0.07471587508916855, number of epoch: 12\n",
      "\n",
      "\n",
      "model:lstm sequence length: 64 layer_dim: 1 hidden size: 32\n",
      "final loss: 0.002188334590755403, number of epoch: 55\n",
      "\n",
      "\n",
      "model:lstm sequence length: 64 layer_dim: 2 hidden size: 32\n",
      "final loss: 0.07838017120957375, number of epoch: 11\n",
      "\n",
      "\n",
      "model:lstm sequence length: 64 layer_dim: 3 hidden size: 32\n",
      "final loss: 0.08592137321829796, number of epoch: 11\n",
      "\n",
      "\n",
      "model:lstm sequence length: 64 layer_dim: 1 hidden size: 128\n",
      "final loss: 0.0021088375942781568, number of epoch: 100\n",
      "\n",
      "\n",
      "model:lstm sequence length: 64 layer_dim: 2 hidden size: 128\n",
      "final loss: 0.08133366703987122, number of epoch: 11\n",
      "\n",
      "\n",
      "model:lstm sequence length: 64 layer_dim: 3 hidden size: 128\n",
      "final loss: 0.08304417133331299, number of epoch: 11\n",
      "\n",
      "\n",
      "model:gru sequence length: 2 layer_dim: 1 hidden size: 2\n",
      "final loss: 0.0023818729096092284, number of epoch: 100\n",
      "\n",
      "\n",
      "model:gru sequence length: 2 layer_dim: 2 hidden size: 2\n",
      "final loss: 0.023731448221951723, number of epoch: 100\n",
      "\n",
      "\n",
      "model:gru sequence length: 2 layer_dim: 3 hidden size: 2\n",
      "final loss: 0.003133315942250192, number of epoch: 100\n",
      "\n",
      "\n",
      "model:gru sequence length: 2 layer_dim: 1 hidden size: 32\n",
      "final loss: 0.0020543998398352414, number of epoch: 100\n",
      "\n",
      "\n",
      "model:gru sequence length: 2 layer_dim: 2 hidden size: 32\n",
      "final loss: 0.0021477317495737225, number of epoch: 100\n",
      "\n",
      "\n",
      "model:gru sequence length: 2 layer_dim: 3 hidden size: 32\n",
      "final loss: 0.002515185304218903, number of epoch: 100\n",
      "\n",
      "\n",
      "model:gru sequence length: 2 layer_dim: 1 hidden size: 128\n",
      "final loss: 0.0020557274983730167, number of epoch: 65\n",
      "\n",
      "\n",
      "model:gru sequence length: 2 layer_dim: 2 hidden size: 128\n",
      "final loss: 0.0021282280795276165, number of epoch: 100\n",
      "\n",
      "\n",
      "model:gru sequence length: 2 layer_dim: 3 hidden size: 128\n",
      "final loss: 0.00220199057366699, number of epoch: 100\n",
      "\n",
      "\n",
      "model:gru sequence length: 16 layer_dim: 1 hidden size: 2\n",
      "final loss: 0.002376810123678297, number of epoch: 100\n",
      "\n",
      "\n",
      "model:gru sequence length: 16 layer_dim: 2 hidden size: 2\n",
      "final loss: 0.0034049521200358868, number of epoch: 100\n",
      "\n",
      "\n",
      "model:gru sequence length: 16 layer_dim: 3 hidden size: 2\n",
      "final loss: 0.1855777995660901, number of epoch: 61\n",
      "\n",
      "\n",
      "model:gru sequence length: 16 layer_dim: 1 hidden size: 32\n",
      "final loss: 0.0026503895060159266, number of epoch: 100\n",
      "\n",
      "\n",
      "model:gru sequence length: 16 layer_dim: 2 hidden size: 32\n",
      "final loss: 0.0027364250854589045, number of epoch: 100\n",
      "\n",
      "\n",
      "model:gru sequence length: 16 layer_dim: 3 hidden size: 32\n",
      "final loss: 0.0034407879575155675, number of epoch: 100\n",
      "\n",
      "\n",
      "model:gru sequence length: 16 layer_dim: 1 hidden size: 128\n",
      "final loss: 0.0026776307495310903, number of epoch: 100\n",
      "\n",
      "\n",
      "model:gru sequence length: 16 layer_dim: 2 hidden size: 128\n",
      "final loss: 0.0034597795456647873, number of epoch: 100\n",
      "\n",
      "\n",
      "model:gru sequence length: 16 layer_dim: 3 hidden size: 128\n",
      "final loss: 0.0037917292211204767, number of epoch: 100\n",
      "\n",
      "\n",
      "model:gru sequence length: 64 layer_dim: 1 hidden size: 2\n",
      "final loss: 0.0022816897835582495, number of epoch: 48\n",
      "\n",
      "\n",
      "model:gru sequence length: 64 layer_dim: 2 hidden size: 2\n",
      "final loss: 0.12602622993290424, number of epoch: 38\n",
      "\n",
      "\n",
      "model:gru sequence length: 64 layer_dim: 3 hidden size: 2\n",
      "final loss: 0.005127181299030781, number of epoch: 23\n",
      "\n",
      "\n",
      "model:gru sequence length: 64 layer_dim: 1 hidden size: 32\n",
      "final loss: 0.002007134142331779, number of epoch: 100\n",
      "\n",
      "\n",
      "model:gru sequence length: 64 layer_dim: 2 hidden size: 32\n",
      "final loss: 0.002161426527891308, number of epoch: 100\n",
      "\n",
      "\n",
      "model:gru sequence length: 64 layer_dim: 3 hidden size: 32\n",
      "final loss: 0.003353759355377406, number of epoch: 100\n",
      "\n",
      "\n",
      "model:gru sequence length: 64 layer_dim: 1 hidden size: 128\n",
      "final loss: 0.0020893269684165716, number of epoch: 100\n",
      "\n",
      "\n",
      "model:gru sequence length: 64 layer_dim: 2 hidden size: 128\n",
      "final loss: 0.002587254741229117, number of epoch: 100\n",
      "\n",
      "\n",
      "model:gru sequence length: 64 layer_dim: 3 hidden size: 128\n",
      "final loss: 0.0028218089137226343, number of epoch: 100\n",
      "\n",
      "\n"
     ]
    }
   ],
   "source": [
    "# Grid search for the optimal setting in types of the model, sequence lengths, hidden sizes and the number of layers\n",
    "deterministic(seed=0)\n",
    "\n",
    "summary = []\n",
    "for model_type in [\"rnn\", \"lstm\", \"gru\"]:\n",
    "  for sequence in [2, 16, 64]:\n",
    "    for hidden_size in [2, 32, 128]:\n",
    "      for layer_num in [1, 2, 3]:\n",
    "        # Set sequence\n",
    "        seq_len = sequence \n",
    "        # Create respective datasets\n",
    "        training_set = custom_dataset(dataset=training_df, seq_len=seq_len)\n",
    "        validation_set = custom_dataset(dataset=validation_df, seq_len=seq_len)\n",
    "        testing_set = custom_dataset(dataset=testing_df, seq_len=seq_len)\n",
    "        # Create respective dataloaders\n",
    "        batch_size = 256\n",
    "        train_loader = DataLoader(dataset=training_set, batch_size=batch_size)\n",
    "        valid_loader = DataLoader(dataset=validation_set, batch_size=batch_size)\n",
    "        test_loader = DataLoader(dataset=testing_set, batch_size=batch_size)\n",
    "        \n",
    "        input_dim = 1\n",
    "        # Set hidden sizes \n",
    "        hidden_dim = hidden_size\n",
    "        # Set layers \n",
    "        layer_dim = layer_num\n",
    "        # Create the model\n",
    "        if model_type == \"rnn\":\n",
    "          model = RNN(input_dim=input_dim, hidden_dim=hidden_dim, layer_dim=layer_dim, seq_len=seq_len).to(device)\n",
    "        elif model_type == \"lstm\":\n",
    "          model = LSTM(input_dim=input_dim, hidden_dim=hidden_dim, layer_dim=layer_dim, seq_len=seq_len).to(device)\n",
    "        elif model_type == \"gru\":\n",
    "          model = GRU(input_dim=input_dim, hidden_dim=hidden_dim, layer_dim=layer_dim, seq_len=seq_len).to(device)\n",
    "        criterion = nn.MSELoss()\n",
    "        learning_rate = 0.05\n",
    "        optimizer = torch.optim.SGD(model.parameters(), lr=learning_rate)\n",
    "        print(f\"model:{model_type} sequence length: {sequence} layer_dim: {layer_num} hidden size: {hidden_dim}\")\n",
    "        model, valid_loss = train(model=model, train_data=train_loader, valid_data=valid_loader, max_epochs=100, early_stopping=10, min_improvement=0,\n",
    "                                    verbose=False, lr_curve=False)\n",
    "        summary.append([model_type, sequence, hidden_size, layer_num, len(valid_loss), valid_loss[-1]])\n",
    "        print(\"\\n\")"
   ]
  },
  {
   "cell_type": "markdown",
   "metadata": {
    "id": "xTIDHP6CCVfu"
   },
   "source": [
    "# Analysis of the Grid Search"
   ]
  },
  {
   "cell_type": "code",
   "execution_count": 24,
   "metadata": {
    "colab": {
     "base_uri": "https://localhost:8080/",
     "height": 424
    },
    "id": "JSK1fAwNfZtG",
    "outputId": "ad7929c9-f51e-4529-eea9-82105b65507c"
   },
   "outputs": [
    {
     "data": {
      "text/html": [
       "\n",
       "  <div id=\"df-6c0ec4ec-cffc-4d0e-bcd6-5068d6bc0e52\">\n",
       "    <div class=\"colab-df-container\">\n",
       "      <div>\n",
       "<style scoped>\n",
       "    .dataframe tbody tr th:only-of-type {\n",
       "        vertical-align: middle;\n",
       "    }\n",
       "\n",
       "    .dataframe tbody tr th {\n",
       "        vertical-align: top;\n",
       "    }\n",
       "\n",
       "    .dataframe thead th {\n",
       "        text-align: right;\n",
       "    }\n",
       "</style>\n",
       "<table border=\"1\" class=\"dataframe\">\n",
       "  <thead>\n",
       "    <tr style=\"text-align: right;\">\n",
       "      <th></th>\n",
       "      <th>Model</th>\n",
       "      <th>Sequence length</th>\n",
       "      <th>Hidden size</th>\n",
       "      <th>Layer</th>\n",
       "      <th>Epoch</th>\n",
       "      <th>Loss</th>\n",
       "    </tr>\n",
       "  </thead>\n",
       "  <tbody>\n",
       "    <tr>\n",
       "      <th>24</th>\n",
       "      <td>rnn</td>\n",
       "      <td>64</td>\n",
       "      <td>128</td>\n",
       "      <td>1</td>\n",
       "      <td>100</td>\n",
       "      <td>0.001658</td>\n",
       "    </tr>\n",
       "    <tr>\n",
       "      <th>25</th>\n",
       "      <td>rnn</td>\n",
       "      <td>64</td>\n",
       "      <td>128</td>\n",
       "      <td>2</td>\n",
       "      <td>100</td>\n",
       "      <td>0.001804</td>\n",
       "    </tr>\n",
       "    <tr>\n",
       "      <th>21</th>\n",
       "      <td>rnn</td>\n",
       "      <td>64</td>\n",
       "      <td>32</td>\n",
       "      <td>1</td>\n",
       "      <td>77</td>\n",
       "      <td>0.001933</td>\n",
       "    </tr>\n",
       "    <tr>\n",
       "      <th>18</th>\n",
       "      <td>rnn</td>\n",
       "      <td>64</td>\n",
       "      <td>2</td>\n",
       "      <td>1</td>\n",
       "      <td>98</td>\n",
       "      <td>0.001989</td>\n",
       "    </tr>\n",
       "    <tr>\n",
       "      <th>3</th>\n",
       "      <td>rnn</td>\n",
       "      <td>2</td>\n",
       "      <td>32</td>\n",
       "      <td>1</td>\n",
       "      <td>63</td>\n",
       "      <td>0.001996</td>\n",
       "    </tr>\n",
       "    <tr>\n",
       "      <th>...</th>\n",
       "      <td>...</td>\n",
       "      <td>...</td>\n",
       "      <td>...</td>\n",
       "      <td>...</td>\n",
       "      <td>...</td>\n",
       "      <td>...</td>\n",
       "    </tr>\n",
       "    <tr>\n",
       "      <th>29</th>\n",
       "      <td>lstm</td>\n",
       "      <td>2</td>\n",
       "      <td>2</td>\n",
       "      <td>3</td>\n",
       "      <td>16</td>\n",
       "      <td>0.188977</td>\n",
       "    </tr>\n",
       "    <tr>\n",
       "      <th>11</th>\n",
       "      <td>rnn</td>\n",
       "      <td>16</td>\n",
       "      <td>2</td>\n",
       "      <td>3</td>\n",
       "      <td>66</td>\n",
       "      <td>0.192418</td>\n",
       "    </tr>\n",
       "    <tr>\n",
       "      <th>44</th>\n",
       "      <td>lstm</td>\n",
       "      <td>16</td>\n",
       "      <td>128</td>\n",
       "      <td>3</td>\n",
       "      <td>13</td>\n",
       "      <td>0.196989</td>\n",
       "    </tr>\n",
       "    <tr>\n",
       "      <th>37</th>\n",
       "      <td>lstm</td>\n",
       "      <td>16</td>\n",
       "      <td>2</td>\n",
       "      <td>2</td>\n",
       "      <td>11</td>\n",
       "      <td>0.209488</td>\n",
       "    </tr>\n",
       "    <tr>\n",
       "      <th>38</th>\n",
       "      <td>lstm</td>\n",
       "      <td>16</td>\n",
       "      <td>2</td>\n",
       "      <td>3</td>\n",
       "      <td>11</td>\n",
       "      <td>0.211697</td>\n",
       "    </tr>\n",
       "  </tbody>\n",
       "</table>\n",
       "<p>81 rows × 6 columns</p>\n",
       "</div>\n",
       "      <button class=\"colab-df-convert\" onclick=\"convertToInteractive('df-6c0ec4ec-cffc-4d0e-bcd6-5068d6bc0e52')\"\n",
       "              title=\"Convert this dataframe to an interactive table.\"\n",
       "              style=\"display:none;\">\n",
       "        \n",
       "  <svg xmlns=\"http://www.w3.org/2000/svg\" height=\"24px\"viewBox=\"0 0 24 24\"\n",
       "       width=\"24px\">\n",
       "    <path d=\"M0 0h24v24H0V0z\" fill=\"none\"/>\n",
       "    <path d=\"M18.56 5.44l.94 2.06.94-2.06 2.06-.94-2.06-.94-.94-2.06-.94 2.06-2.06.94zm-11 1L8.5 8.5l.94-2.06 2.06-.94-2.06-.94L8.5 2.5l-.94 2.06-2.06.94zm10 10l.94 2.06.94-2.06 2.06-.94-2.06-.94-.94-2.06-.94 2.06-2.06.94z\"/><path d=\"M17.41 7.96l-1.37-1.37c-.4-.4-.92-.59-1.43-.59-.52 0-1.04.2-1.43.59L10.3 9.45l-7.72 7.72c-.78.78-.78 2.05 0 2.83L4 21.41c.39.39.9.59 1.41.59.51 0 1.02-.2 1.41-.59l7.78-7.78 2.81-2.81c.8-.78.8-2.07 0-2.86zM5.41 20L4 18.59l7.72-7.72 1.47 1.35L5.41 20z\"/>\n",
       "  </svg>\n",
       "      </button>\n",
       "      \n",
       "  <style>\n",
       "    .colab-df-container {\n",
       "      display:flex;\n",
       "      flex-wrap:wrap;\n",
       "      gap: 12px;\n",
       "    }\n",
       "\n",
       "    .colab-df-convert {\n",
       "      background-color: #E8F0FE;\n",
       "      border: none;\n",
       "      border-radius: 50%;\n",
       "      cursor: pointer;\n",
       "      display: none;\n",
       "      fill: #1967D2;\n",
       "      height: 32px;\n",
       "      padding: 0 0 0 0;\n",
       "      width: 32px;\n",
       "    }\n",
       "\n",
       "    .colab-df-convert:hover {\n",
       "      background-color: #E2EBFA;\n",
       "      box-shadow: 0px 1px 2px rgba(60, 64, 67, 0.3), 0px 1px 3px 1px rgba(60, 64, 67, 0.15);\n",
       "      fill: #174EA6;\n",
       "    }\n",
       "\n",
       "    [theme=dark] .colab-df-convert {\n",
       "      background-color: #3B4455;\n",
       "      fill: #D2E3FC;\n",
       "    }\n",
       "\n",
       "    [theme=dark] .colab-df-convert:hover {\n",
       "      background-color: #434B5C;\n",
       "      box-shadow: 0px 1px 3px 1px rgba(0, 0, 0, 0.15);\n",
       "      filter: drop-shadow(0px 1px 2px rgba(0, 0, 0, 0.3));\n",
       "      fill: #FFFFFF;\n",
       "    }\n",
       "  </style>\n",
       "\n",
       "      <script>\n",
       "        const buttonEl =\n",
       "          document.querySelector('#df-6c0ec4ec-cffc-4d0e-bcd6-5068d6bc0e52 button.colab-df-convert');\n",
       "        buttonEl.style.display =\n",
       "          google.colab.kernel.accessAllowed ? 'block' : 'none';\n",
       "\n",
       "        async function convertToInteractive(key) {\n",
       "          const element = document.querySelector('#df-6c0ec4ec-cffc-4d0e-bcd6-5068d6bc0e52');\n",
       "          const dataTable =\n",
       "            await google.colab.kernel.invokeFunction('convertToInteractive',\n",
       "                                                     [key], {});\n",
       "          if (!dataTable) return;\n",
       "\n",
       "          const docLinkHtml = 'Like what you see? Visit the ' +\n",
       "            '<a target=\"_blank\" href=https://colab.research.google.com/notebooks/data_table.ipynb>data table notebook</a>'\n",
       "            + ' to learn more about interactive tables.';\n",
       "          element.innerHTML = '';\n",
       "          dataTable['output_type'] = 'display_data';\n",
       "          await google.colab.output.renderOutput(dataTable, element);\n",
       "          const docLink = document.createElement('div');\n",
       "          docLink.innerHTML = docLinkHtml;\n",
       "          element.appendChild(docLink);\n",
       "        }\n",
       "      </script>\n",
       "    </div>\n",
       "  </div>\n",
       "  "
      ],
      "text/plain": [
       "   Model  Sequence length  Hidden size  Layer  Epoch      Loss\n",
       "24   rnn               64          128      1    100  0.001658\n",
       "25   rnn               64          128      2    100  0.001804\n",
       "21   rnn               64           32      1     77  0.001933\n",
       "18   rnn               64            2      1     98  0.001989\n",
       "3    rnn                2           32      1     63  0.001996\n",
       "..   ...              ...          ...    ...    ...       ...\n",
       "29  lstm                2            2      3     16  0.188977\n",
       "11   rnn               16            2      3     66  0.192418\n",
       "44  lstm               16          128      3     13  0.196989\n",
       "37  lstm               16            2      2     11  0.209488\n",
       "38  lstm               16            2      3     11  0.211697\n",
       "\n",
       "[81 rows x 6 columns]"
      ]
     },
     "execution_count": 24,
     "metadata": {},
     "output_type": "execute_result"
    }
   ],
   "source": [
    "# Summary of the grid search\n",
    "summary_df = pd.DataFrame(summary, columns=[\"Model\", \"Sequence length\", \"Hidden size\", \"Layer\", \"Epoch\", \"Loss\"]).sort_values(\"Loss\")\n",
    "summary_df\n",
    "#summary_df.to_csv(\"Result.csv\")"
   ]
  },
  {
   "cell_type": "code",
   "execution_count": 25,
   "metadata": {
    "colab": {
     "base_uri": "https://localhost:8080/"
    },
    "id": "vMhfq1yErVCe",
    "outputId": "99a71469-3044-4b36-badd-7e803081b78e"
   },
   "outputs": [
    {
     "name": "stdout",
     "output_type": "stream",
     "text": [
      "sum:0.9226982101681642 mean:0.03417400778400608 std:0.06552526055878212\n",
      "sum:2.209848379046889 mean:0.0818462362609959 std:0.07895385510851986\n",
      "sum:0.40092201565857977 mean:0.014848963542910362 std:0.04165954762048193\n"
     ]
    }
   ],
   "source": [
    "# Mean and SD of the types of the model\n",
    "for model_type in [\"rnn\", \"lstm\", \"gru\"]:\n",
    "  loss_distrib = summary_df[summary_df[\"Model\"]== model_type][\"Loss\"]\n",
    "  print(f\"sum:{loss_distrib.sum()} mean:{loss_distrib.mean()} std:{loss_distrib.std()}\")"
   ]
  },
  {
   "cell_type": "code",
   "execution_count": 26,
   "metadata": {
    "colab": {
     "base_uri": "https://localhost:8080/",
     "height": 473
    },
    "id": "ChGxciRg6w6Q",
    "outputId": "509d022a-a49c-44d1-d3bf-69f99bf1f55b"
   },
   "outputs": [
    {
     "data": {
      "image/png": "[encoded data removed]",
      "text/plain": [
       "<Figure size 1440x504 with 3 Axes>"
      ]
     },
     "metadata": {
      "needs_background": "light"
     },
     "output_type": "display_data"
    }
   ],
   "source": [
    "# Boxplots of types of the model\n",
    "fig, ax = plt.subplots(1,3,figsize=[20,7])\n",
    "sns.boxplot(data=summary_df, x=\"Model\", y=\"Loss\", hue=\"Sequence length\", ax=ax[0])\n",
    "sns.boxplot(data=summary_df, x=\"Model\", y=\"Loss\", hue=\"Hidden size\", ax=ax[1])\n",
    "sns.boxplot(data=summary_df, x=\"Model\", y=\"Loss\", hue=\"Layer\", ax=ax[2])\n",
    "ax[0].set_title(\"Boxplot of loss against model\\n(mapped to sequence lengths)\")\n",
    "ax[1].set_title(\"Boxplot of loss against model\\n(mapped to hidden sizes)\")\n",
    "ax[2].set_title(\"Boxplot of loss against model\\n(mapped to layers)\")\n",
    "fig.savefig(\"model_all.png\")"
   ]
  },
  {
   "cell_type": "code",
   "execution_count": 27,
   "metadata": {
    "colab": {
     "base_uri": "https://localhost:8080/"
    },
    "id": "VdFfLYTCsGN0",
    "outputId": "2851af4a-4a5d-4fb5-c367-72e231256f20"
   },
   "outputs": [
    {
     "name": "stdout",
     "output_type": "stream",
     "text": [
      "sum:1.4395211498776916 mean:0.053315598143618206 std:0.07948206244497617\n",
      "sum:1.1023591449775267 mean:0.040828116480649136 std:0.0774065160852206\n",
      "sum:0.9915883100184146 mean:0.03672549296364499 std:0.047626255998836964\n"
     ]
    }
   ],
   "source": [
    "# Mean and SD of the sequence length\n",
    "for sequence in [2, 16, 64]:\n",
    "  loss_distrib = summary_df[summary_df[\"Sequence length\"]== sequence][\"Loss\"]\n",
    "  print(f\"sum:{loss_distrib.sum()} mean:{loss_distrib.mean()} std:{loss_distrib.std()}\")"
   ]
  },
  {
   "cell_type": "code",
   "execution_count": 28,
   "metadata": {
    "colab": {
     "base_uri": "https://localhost:8080/",
     "height": 473
    },
    "id": "A9dS0RoT9RZV",
    "outputId": "a370f6cb-add9-4331-eb21-cd4c9bb3bd40"
   },
   "outputs": [
    {
     "data": {
      "image/png": "[encoded data removed]",
      "text/plain": [
       "<Figure size 1440x504 with 3 Axes>"
      ]
     },
     "metadata": {
      "needs_background": "light"
     },
     "output_type": "display_data"
    }
   ],
   "source": [
    "# Boxplots of types of the sequence lengths\n",
    "fig, ax = plt.subplots(1,3,figsize=[20,7])\n",
    "sns.boxplot(data=summary_df, x=\"Sequence length\", y=\"Loss\", hue=\"Model\", ax=ax[0])\n",
    "sns.boxplot(data=summary_df, x=\"Sequence length\", y=\"Loss\", hue=\"Hidden size\", ax=ax[1])\n",
    "sns.boxplot(data=summary_df, x=\"Sequence length\", y=\"Loss\", hue=\"Layer\", ax=ax[2])\n",
    "ax[0].set_title(\"Boxplot of loss against sequence length\\n(mapped to types of model)\")\n",
    "ax[1].set_title(\"Boxplot of loss against sequence length\\n(mapped to hidden sizes)\")\n",
    "ax[2].set_title(\"Boxplot of loss against sequence length\\n(mapped to hidden sizes)\")\n",
    "fig.savefig(\"sequence_all.png\")"
   ]
  },
  {
   "cell_type": "code",
   "execution_count": 29,
   "metadata": {
    "colab": {
     "base_uri": "https://localhost:8080/"
    },
    "id": "-oM7bCp2sbL7",
    "outputId": "c1d60ca2-5c93-415b-93cc-dea1861c40f0"
   },
   "outputs": [
    {
     "name": "stdout",
     "output_type": "stream",
     "text": [
      "sum:2.0462042833678424 mean:0.07578534382843861 std:0.08341923779617891\n",
      "sum:0.5850831292918883 mean:0.021669745529329196 std:0.046282824810843705\n",
      "sum:0.9021811922139022 mean:0.03341411823014453 std:0.06283885773148588\n"
     ]
    }
   ],
   "source": [
    "# Mean and SD of the hidden sizes\n",
    "for hidden_size in [2, 32, 128]:\n",
    "  loss_distrib = summary_df[summary_df[\"Hidden size\"] == hidden_size][\"Loss\"]\n",
    "  print(f\"sum:{loss_distrib.sum()} mean:{loss_distrib.mean()} std:{loss_distrib.std()}\")"
   ]
  },
  {
   "cell_type": "code",
   "execution_count": 30,
   "metadata": {
    "colab": {
     "base_uri": "https://localhost:8080/",
     "height": 894
    },
    "id": "-68v4pUV9yDp",
    "outputId": "0088d4b9-9b96-4fbe-b8d1-2e21ecdd427c"
   },
   "outputs": [
    {
     "data": {
      "text/plain": [
       "<matplotlib.axes._subplots.AxesSubplot at 0x7f9570642650>"
      ]
     },
     "execution_count": 30,
     "metadata": {},
     "output_type": "execute_result"
    },
    {
     "data": {
      "image/png": "[encoded data removed]",
      "text/plain": [
       "<Figure size 1080x1080 with 4 Axes>"
      ]
     },
     "metadata": {
      "needs_background": "light"
     },
     "output_type": "display_data"
    }
   ],
   "source": [
    "# Boxplots of types of the hidden sizes\n",
    "fig, ax = plt.subplots(2,2,figsize=[15,15])\n",
    "sns.boxplot(data=summary_df, x=\"Hidden size\", y=\"Loss\", hue=\"Model\", ax=ax[0][0])\n",
    "sns.boxplot(data=summary_df, x=\"Hidden size\", y=\"Loss\", hue=\"Sequence length\", ax=ax[0][1])\n",
    "sns.boxplot(data=summary_df, x=\"Hidden size\", y=\"Loss\", hue=\"Layer\", ax=ax[1][0])\n",
    "sns.boxplot(data=summary_df, x=\"Hidden size\", y=\"Epoch\", ax=ax[1][1])"
   ]
  },
  {
   "cell_type": "code",
   "execution_count": 31,
   "metadata": {
    "colab": {
     "base_uri": "https://localhost:8080/"
    },
    "id": "9Sqb1ZU8AiUH",
    "outputId": "4dc00eff-6912-4e38-bb41-bde21c1c87fc"
   },
   "outputs": [
    {
     "name": "stdout",
     "output_type": "stream",
     "text": [
      "sum:0.08933979683206417 mean:0.003308881364150525 std:0.0052507274205277595\n",
      "sum:1.34559079297469 mean:0.04983669603609963 std:0.0678820372521258\n",
      "sum:2.098538015066879 mean:0.07772363018766218 std:0.08462595998515375\n"
     ]
    }
   ],
   "source": [
    "# Mean and SD of the number of layers\n",
    "for layer_num in [1, 2, 3]:\n",
    "  loss_distrib = summary_df[summary_df[\"Layer\"] == layer_num][\"Loss\"]\n",
    "  print(f\"sum:{loss_distrib.sum()} mean:{loss_distrib.mean()} std:{loss_distrib.std()}\")"
   ]
  },
  {
   "cell_type": "code",
   "execution_count": 32,
   "metadata": {
    "colab": {
     "base_uri": "https://localhost:8080/",
     "height": 490
    },
    "id": "87ZU9nNE7Q30",
    "outputId": "66e1a9e8-a38e-44a1-c7a0-a0f731897661"
   },
   "outputs": [
    {
     "data": {
      "text/plain": [
       "Text(0.5, 1.0, 'Boxplot of loss against layer\\n(mapped to hidden sizes)')"
      ]
     },
     "execution_count": 32,
     "metadata": {},
     "output_type": "execute_result"
    },
    {
     "data": {
      "image/png": "[encoded data removed]",
      "text/plain": [
       "<Figure size 1440x504 with 3 Axes>"
      ]
     },
     "metadata": {
      "needs_background": "light"
     },
     "output_type": "display_data"
    }
   ],
   "source": [
    "# Boxplots of types of the number of layers\n",
    "fig, ax = plt.subplots(1,3,figsize=[20,7])\n",
    "sns.boxplot(data=summary_df, x=\"Layer\", y=\"Loss\", hue=\"Model\", ax=ax[0])\n",
    "sns.boxplot(data=summary_df, x=\"Layer\", y=\"Loss\", hue=\"Sequence length\", ax=ax[1])\n",
    "sns.boxplot(data=summary_df, x=\"Layer\", y=\"Loss\", hue=\"Hidden size\", ax=ax[2])\n",
    "ax[0].set_title(\"Boxplot of loss against layer\\n(mapped to types of model)\")\n",
    "ax[1].set_title(\"Boxplot of loss against layer\\n(mapped to sequence lengths)\")\n",
    "ax[2].set_title(\"Boxplot of loss against layer\\n(mapped to hidden sizes)\")\n",
    "#fig.savefig(\"layer_all.png\")"
   ]
  },
  {
   "cell_type": "markdown",
   "metadata": {
    "id": "lrhDygDzCfFq"
   },
   "source": [
    "# Evaluation"
   ]
  },
  {
   "cell_type": "code",
   "execution_count": 34,
   "metadata": {
    "colab": {
     "base_uri": "https://localhost:8080/"
    },
    "id": "P0kaWBzACVpP",
    "outputId": "3aafd9a8-8f7f-4040-e9c5-21168642aba3"
   },
   "outputs": [
    {
     "data": {
      "text/plain": [
       "26.620108355130274"
      ]
     },
     "execution_count": 34,
     "metadata": {},
     "output_type": "execute_result"
    }
   ],
   "source": [
    "# MSE of the label and the baseline\n",
    "ground_true = testing_set.inverse_transform(testing_set._label) # Unnormalize the label in the testing set\n",
    "time_axis = pd.to_datetime(testing_set._dataset[\"Date\"][-(ground_true.shape[0]):]) # Set x-axis as date\n",
    "baseline_prediction = testing_df[\"Baseline\"][-(ground_true.shape[0])-1:-1] # Extract baseline data\n",
    "mean_squared_error(y_pred=baseline_prediction, y_true=ground_true) # MSE of the label and the baseline"
   ]
  },
  {
   "cell_type": "code",
   "execution_count": 35,
   "metadata": {
    "colab": {
     "base_uri": "https://localhost:8080/",
     "height": 530
    },
    "id": "nUNB1haQkchO",
    "outputId": "c1e22b6c-7f86-402a-8cf8-eedd98e0a6f5"
   },
   "outputs": [
    {
     "data": {
      "text/plain": [
       "<matplotlib.legend.Legend at 0x7f957096e790>"
      ]
     },
     "execution_count": 35,
     "metadata": {},
     "output_type": "execute_result"
    },
    {
     "data": {
      "image/png": "[encoded data removed]",
      "text/plain": [
       "<Figure size 1440x576 with 1 Axes>"
      ]
     },
     "metadata": {
      "needs_background": "light"
     },
     "output_type": "display_data"
    }
   ],
   "source": [
    "# Line plot of labels and baseline predictions\n",
    "plt.figure(figsize=[20,8])\n",
    "plt.plot(time_axis, ground_true, label=\"Label\")\n",
    "plt.plot(time_axis, baseline_prediction, c=\"g\", label=\"Baseline\")\n",
    "plt.title(\"QQQ stock price in the testing set(Baseline)\")\n",
    "plt.xlabel(\"Date\")\n",
    "plt.ylabel(\"QQQ stock price($)\")\n",
    "plt.legend()\n",
    "#plt.savefig(\"baseline prediction\")"
   ]
  },
  {
   "cell_type": "code",
   "execution_count": 36,
   "metadata": {
    "colab": {
     "base_uri": "https://localhost:8080/",
     "height": 530
    },
    "id": "quFIm7SSqH_K",
    "outputId": "2b1a26d1-f2fd-44f0-bd08-1029aee7625e"
   },
   "outputs": [
    {
     "data": {
      "text/plain": [
       "Text(0.5, 0, 'Price difference($)')"
      ]
     },
     "execution_count": 36,
     "metadata": {},
     "output_type": "execute_result"
    },
    {
     "data": {
      "image/png": "[encoded data removed]",
      "text/plain": [
       "<Figure size 576x576 with 1 Axes>"
      ]
     },
     "metadata": {
      "needs_background": "light"
     },
     "output_type": "display_data"
    }
   ],
   "source": [
    "# Distribution of the price difference between labels and baseline predictions\n",
    "fig, ax = plt.subplots(1,1,figsize=[8,8])\n",
    "sns.histplot(ground_true-baseline_prediction, ax=ax)\n",
    "ax.set_title(\"Histogram of price difference(Baseline)\")\n",
    "ax.set_xlabel(\"Price difference($)\")"
   ]
  },
  {
   "cell_type": "code",
   "execution_count": 37,
   "metadata": {
    "colab": {
     "base_uri": "https://localhost:8080/",
     "height": 530
    },
    "id": "ri2qSi5p2f0r",
    "outputId": "8dd7746d-5434-4ddb-a1ff-e9cacdbcc660"
   },
   "outputs": [
    {
     "name": "stdout",
     "output_type": "stream",
     "text": [
      "final loss: 0.0015854948142077774, number of epoch: 100\n"
     ]
    },
    {
     "data": {
      "image/png": "[encoded data removed]",
      "text/plain": [
       "<Figure size 864x576 with 2 Axes>"
      ]
     },
     "metadata": {
      "needs_background": "light"
     },
     "output_type": "display_data"
    }
   ],
   "source": [
    "# Passing best model into the testing set\n",
    "deterministic(seed=0)\n",
    "\n",
    "seq_len = 64\n",
    "training_set = custom_dataset(dataset=training_df, seq_len=seq_len)\n",
    "validation_set = custom_dataset(dataset=validation_df, seq_len=seq_len)\n",
    "testing_set = custom_dataset(dataset=testing_df, seq_len=seq_len)\n",
    "batch_size = 256\n",
    "train_loader = DataLoader(dataset=training_set, batch_size=batch_size)\n",
    "valid_loader = DataLoader(dataset=validation_set, batch_size=batch_size)\n",
    "test_loader = DataLoader(dataset=testing_set, batch_size=batch_size)\n",
    "input_dim = 1\n",
    "hidden_dim = 128\n",
    "layer_dim = 1\n",
    "rnn = RNN(input_dim=input_dim, hidden_dim=hidden_dim, layer_dim=layer_dim, seq_len=seq_len).to(device)\n",
    "criterion = nn.MSELoss()\n",
    "learning_rate = 0.05\n",
    "optimizer = torch.optim.SGD(rnn.parameters(), lr=learning_rate)\n",
    "rnn, valid_loss = train(model=rnn, train_data=train_loader, valid_data=valid_loader, max_epochs=100, early_stopping=10, min_improvement=0,\n",
    "                            verbose=False, lr_curve=True)"
   ]
  },
  {
   "cell_type": "code",
   "execution_count": 38,
   "metadata": {
    "colab": {
     "base_uri": "https://localhost:8080/"
    },
    "id": "2YiMq-Y3bteT",
    "outputId": "cb78ca7a-52a8-4082-d0a1-49c79789e3c5"
   },
   "outputs": [
    {
     "data": {
      "text/plain": [
       "34.82002755317491"
      ]
     },
     "execution_count": 38,
     "metadata": {},
     "output_type": "execute_result"
    }
   ],
   "source": [
    "# MSE loss of labels and the prediction from the best model\n",
    "outputs, prediction = evaluate(rnn, test_loader)\n",
    "predictions = testing_set.inverse_transform(prediction)\n",
    "mean_squared_error(y_pred=predictions, y_true=ground_true)"
   ]
  },
  {
   "cell_type": "code",
   "execution_count": 39,
   "metadata": {
    "colab": {
     "base_uri": "https://localhost:8080/",
     "height": 513
    },
    "id": "3oj4ULdu41HX",
    "outputId": "b37e2ab7-39f9-450a-a2ea-37518e6982b8"
   },
   "outputs": [
    {
     "data": {
      "image/png": "[encoded data removed]",
      "text/plain": [
       "<Figure size 1440x576 with 1 Axes>"
      ]
     },
     "metadata": {
      "needs_background": "light"
     },
     "output_type": "display_data"
    }
   ],
   "source": [
    "# Line plot of labels and the best model predictions\n",
    "plt.figure(figsize=[20,8])\n",
    "ground_true = testing_set.inverse_transform(testing_set._label)\n",
    "time_axis = pd.to_datetime(testing_set._dataset[\"Date\"][-(ground_true.shape[0]):])\n",
    "plt.plot(time_axis, ground_true, label=\"Label\")\n",
    "plt.plot(time_axis, predictions, c=\"r\", label=\"Prediction\")\n",
    "plt.title(\"QQQ stock price in the testing set\")\n",
    "plt.xlabel(\"Date\")\n",
    "plt.ylabel(\"QQQ stock price($)\")\n",
    "plt.legend()\n",
    "plt.savefig(\"RNN prediction\")"
   ]
  },
  {
   "cell_type": "code",
   "execution_count": 40,
   "metadata": {
    "colab": {
     "base_uri": "https://localhost:8080/",
     "height": 530
    },
    "id": "BZtVAX71gtm1",
    "outputId": "dea58c02-9fc0-4eac-aa13-d0c9a1f9da20"
   },
   "outputs": [
    {
     "data": {
      "text/plain": [
       "Text(0.5, 0, 'Price difference($)')"
      ]
     },
     "execution_count": 40,
     "metadata": {},
     "output_type": "execute_result"
    },
    {
     "data": {
      "image/png": "[encoded data removed]",
      "text/plain": [
       "<Figure size 576x576 with 1 Axes>"
      ]
     },
     "metadata": {
      "needs_background": "light"
     },
     "output_type": "display_data"
    }
   ],
   "source": [
    "# Distribution of the price difference between labels and baseline predictions\n",
    "fig, ax = plt.subplots(1,1,figsize=[8,8])\n",
    "sns.histplot(testing_set.inverse_transform(testing_set._label)-predictions, ax=ax)\n",
    "ax.set_title(\"Histogram of price difference\")\n",
    "ax.set_xlabel(\"Price difference($)\")\n",
    "#fig.savefig(\"price_difference.png\")"
   ]
  }
 ],
 "metadata": {
  "accelerator": "GPU",
  "colab": {
   "provenance": []
  },
  "gpuClass": "standard",
  "kernelspec": {
   "display_name": "Python 3 (ipykernel)",
   "language": "python",
   "name": "python3"
  },
  "language_info": {
   "codemirror_mode": {
    "name": "ipython",
    "version": 3
   },
   "file_extension": ".py",
   "mimetype": "text/x-python",
   "name": "python",
   "nbconvert_exporter": "python",
   "pygments_lexer": "ipython3",
   "version": "3.9.13"
  }
 },
 "nbformat": 4,
 "nbformat_minor": 1
}
